{
  "nbformat": 4,
  "nbformat_minor": 0,
  "metadata": {
    "colab": {
      "provenance": [],
      "gpuType": "T4",
      "machine_shape": "hm",
      "include_colab_link": true
    },
    "kernelspec": {
      "name": "python3",
      "display_name": "Python 3"
    },
    "language_info": {
      "name": "python"
    },
    "accelerator": "GPU",
    "widgets": {
      "application/vnd.jupyter.widget-state+json": {
        "28359ac97e9345f28c91b365d1b80f42": {
          "model_module": "@jupyter-widgets/controls",
          "model_name": "HBoxModel",
          "model_module_version": "1.5.0",
          "state": {
            "_dom_classes": [],
            "_model_module": "@jupyter-widgets/controls",
            "_model_module_version": "1.5.0",
            "_model_name": "HBoxModel",
            "_view_count": null,
            "_view_module": "@jupyter-widgets/controls",
            "_view_module_version": "1.5.0",
            "_view_name": "HBoxView",
            "box_style": "",
            "children": [
              "IPY_MODEL_ae205e53eaa74c49988fc1a635e76b96",
              "IPY_MODEL_6b6b143e3f1748d899519a3ffb3d10f3",
              "IPY_MODEL_79dbcb1f6cd449339d1ee5819df0ee22"
            ],
            "layout": "IPY_MODEL_2fbadba30d3f453bb5cb224e1d5db1be"
          }
        },
        "ae205e53eaa74c49988fc1a635e76b96": {
          "model_module": "@jupyter-widgets/controls",
          "model_name": "HTMLModel",
          "model_module_version": "1.5.0",
          "state": {
            "_dom_classes": [],
            "_model_module": "@jupyter-widgets/controls",
            "_model_module_version": "1.5.0",
            "_model_name": "HTMLModel",
            "_view_count": null,
            "_view_module": "@jupyter-widgets/controls",
            "_view_module_version": "1.5.0",
            "_view_name": "HTMLView",
            "description": "",
            "description_tooltip": null,
            "layout": "IPY_MODEL_1cf99359abd14377848b4d081dd4a52d",
            "placeholder": "​",
            "style": "IPY_MODEL_f08942b71be5422e9e80dd11445f5bb6",
            "value": "Classifying chunk 1: 100%"
          }
        },
        "6b6b143e3f1748d899519a3ffb3d10f3": {
          "model_module": "@jupyter-widgets/controls",
          "model_name": "FloatProgressModel",
          "model_module_version": "1.5.0",
          "state": {
            "_dom_classes": [],
            "_model_module": "@jupyter-widgets/controls",
            "_model_module_version": "1.5.0",
            "_model_name": "FloatProgressModel",
            "_view_count": null,
            "_view_module": "@jupyter-widgets/controls",
            "_view_module_version": "1.5.0",
            "_view_name": "ProgressView",
            "bar_style": "success",
            "description": "",
            "description_tooltip": null,
            "layout": "IPY_MODEL_81c684abfd434bfcb77d7443b4744382",
            "max": 5000,
            "min": 0,
            "orientation": "horizontal",
            "style": "IPY_MODEL_02c10fba9e3245dfa13c33dceb1b5350",
            "value": 5000
          }
        },
        "79dbcb1f6cd449339d1ee5819df0ee22": {
          "model_module": "@jupyter-widgets/controls",
          "model_name": "HTMLModel",
          "model_module_version": "1.5.0",
          "state": {
            "_dom_classes": [],
            "_model_module": "@jupyter-widgets/controls",
            "_model_module_version": "1.5.0",
            "_model_name": "HTMLModel",
            "_view_count": null,
            "_view_module": "@jupyter-widgets/controls",
            "_view_module_version": "1.5.0",
            "_view_name": "HTMLView",
            "description": "",
            "description_tooltip": null,
            "layout": "IPY_MODEL_69b58ba7ac8d4753905e8b769ca1a3d1",
            "placeholder": "​",
            "style": "IPY_MODEL_76ebc4fbb6c840948df2e66c2749be97",
            "value": " 5000/5000 [09:37&lt;00:00,  9.59 examples/s]"
          }
        },
        "2fbadba30d3f453bb5cb224e1d5db1be": {
          "model_module": "@jupyter-widgets/base",
          "model_name": "LayoutModel",
          "model_module_version": "1.2.0",
          "state": {
            "_model_module": "@jupyter-widgets/base",
            "_model_module_version": "1.2.0",
            "_model_name": "LayoutModel",
            "_view_count": null,
            "_view_module": "@jupyter-widgets/base",
            "_view_module_version": "1.2.0",
            "_view_name": "LayoutView",
            "align_content": null,
            "align_items": null,
            "align_self": null,
            "border": null,
            "bottom": null,
            "display": null,
            "flex": null,
            "flex_flow": null,
            "grid_area": null,
            "grid_auto_columns": null,
            "grid_auto_flow": null,
            "grid_auto_rows": null,
            "grid_column": null,
            "grid_gap": null,
            "grid_row": null,
            "grid_template_areas": null,
            "grid_template_columns": null,
            "grid_template_rows": null,
            "height": null,
            "justify_content": null,
            "justify_items": null,
            "left": null,
            "margin": null,
            "max_height": null,
            "max_width": null,
            "min_height": null,
            "min_width": null,
            "object_fit": null,
            "object_position": null,
            "order": null,
            "overflow": null,
            "overflow_x": null,
            "overflow_y": null,
            "padding": null,
            "right": null,
            "top": null,
            "visibility": null,
            "width": null
          }
        },
        "1cf99359abd14377848b4d081dd4a52d": {
          "model_module": "@jupyter-widgets/base",
          "model_name": "LayoutModel",
          "model_module_version": "1.2.0",
          "state": {
            "_model_module": "@jupyter-widgets/base",
            "_model_module_version": "1.2.0",
            "_model_name": "LayoutModel",
            "_view_count": null,
            "_view_module": "@jupyter-widgets/base",
            "_view_module_version": "1.2.0",
            "_view_name": "LayoutView",
            "align_content": null,
            "align_items": null,
            "align_self": null,
            "border": null,
            "bottom": null,
            "display": null,
            "flex": null,
            "flex_flow": null,
            "grid_area": null,
            "grid_auto_columns": null,
            "grid_auto_flow": null,
            "grid_auto_rows": null,
            "grid_column": null,
            "grid_gap": null,
            "grid_row": null,
            "grid_template_areas": null,
            "grid_template_columns": null,
            "grid_template_rows": null,
            "height": null,
            "justify_content": null,
            "justify_items": null,
            "left": null,
            "margin": null,
            "max_height": null,
            "max_width": null,
            "min_height": null,
            "min_width": null,
            "object_fit": null,
            "object_position": null,
            "order": null,
            "overflow": null,
            "overflow_x": null,
            "overflow_y": null,
            "padding": null,
            "right": null,
            "top": null,
            "visibility": null,
            "width": null
          }
        },
        "f08942b71be5422e9e80dd11445f5bb6": {
          "model_module": "@jupyter-widgets/controls",
          "model_name": "DescriptionStyleModel",
          "model_module_version": "1.5.0",
          "state": {
            "_model_module": "@jupyter-widgets/controls",
            "_model_module_version": "1.5.0",
            "_model_name": "DescriptionStyleModel",
            "_view_count": null,
            "_view_module": "@jupyter-widgets/base",
            "_view_module_version": "1.2.0",
            "_view_name": "StyleView",
            "description_width": ""
          }
        },
        "81c684abfd434bfcb77d7443b4744382": {
          "model_module": "@jupyter-widgets/base",
          "model_name": "LayoutModel",
          "model_module_version": "1.2.0",
          "state": {
            "_model_module": "@jupyter-widgets/base",
            "_model_module_version": "1.2.0",
            "_model_name": "LayoutModel",
            "_view_count": null,
            "_view_module": "@jupyter-widgets/base",
            "_view_module_version": "1.2.0",
            "_view_name": "LayoutView",
            "align_content": null,
            "align_items": null,
            "align_self": null,
            "border": null,
            "bottom": null,
            "display": null,
            "flex": null,
            "flex_flow": null,
            "grid_area": null,
            "grid_auto_columns": null,
            "grid_auto_flow": null,
            "grid_auto_rows": null,
            "grid_column": null,
            "grid_gap": null,
            "grid_row": null,
            "grid_template_areas": null,
            "grid_template_columns": null,
            "grid_template_rows": null,
            "height": null,
            "justify_content": null,
            "justify_items": null,
            "left": null,
            "margin": null,
            "max_height": null,
            "max_width": null,
            "min_height": null,
            "min_width": null,
            "object_fit": null,
            "object_position": null,
            "order": null,
            "overflow": null,
            "overflow_x": null,
            "overflow_y": null,
            "padding": null,
            "right": null,
            "top": null,
            "visibility": null,
            "width": null
          }
        },
        "02c10fba9e3245dfa13c33dceb1b5350": {
          "model_module": "@jupyter-widgets/controls",
          "model_name": "ProgressStyleModel",
          "model_module_version": "1.5.0",
          "state": {
            "_model_module": "@jupyter-widgets/controls",
            "_model_module_version": "1.5.0",
            "_model_name": "ProgressStyleModel",
            "_view_count": null,
            "_view_module": "@jupyter-widgets/base",
            "_view_module_version": "1.2.0",
            "_view_name": "StyleView",
            "bar_color": null,
            "description_width": ""
          }
        },
        "69b58ba7ac8d4753905e8b769ca1a3d1": {
          "model_module": "@jupyter-widgets/base",
          "model_name": "LayoutModel",
          "model_module_version": "1.2.0",
          "state": {
            "_model_module": "@jupyter-widgets/base",
            "_model_module_version": "1.2.0",
            "_model_name": "LayoutModel",
            "_view_count": null,
            "_view_module": "@jupyter-widgets/base",
            "_view_module_version": "1.2.0",
            "_view_name": "LayoutView",
            "align_content": null,
            "align_items": null,
            "align_self": null,
            "border": null,
            "bottom": null,
            "display": null,
            "flex": null,
            "flex_flow": null,
            "grid_area": null,
            "grid_auto_columns": null,
            "grid_auto_flow": null,
            "grid_auto_rows": null,
            "grid_column": null,
            "grid_gap": null,
            "grid_row": null,
            "grid_template_areas": null,
            "grid_template_columns": null,
            "grid_template_rows": null,
            "height": null,
            "justify_content": null,
            "justify_items": null,
            "left": null,
            "margin": null,
            "max_height": null,
            "max_width": null,
            "min_height": null,
            "min_width": null,
            "object_fit": null,
            "object_position": null,
            "order": null,
            "overflow": null,
            "overflow_x": null,
            "overflow_y": null,
            "padding": null,
            "right": null,
            "top": null,
            "visibility": null,
            "width": null
          }
        },
        "76ebc4fbb6c840948df2e66c2749be97": {
          "model_module": "@jupyter-widgets/controls",
          "model_name": "DescriptionStyleModel",
          "model_module_version": "1.5.0",
          "state": {
            "_model_module": "@jupyter-widgets/controls",
            "_model_module_version": "1.5.0",
            "_model_name": "DescriptionStyleModel",
            "_view_count": null,
            "_view_module": "@jupyter-widgets/base",
            "_view_module_version": "1.2.0",
            "_view_name": "StyleView",
            "description_width": ""
          }
        },
        "41023790df774fe681bd07493292d0ed": {
          "model_module": "@jupyter-widgets/controls",
          "model_name": "HBoxModel",
          "model_module_version": "1.5.0",
          "state": {
            "_dom_classes": [],
            "_model_module": "@jupyter-widgets/controls",
            "_model_module_version": "1.5.0",
            "_model_name": "HBoxModel",
            "_view_count": null,
            "_view_module": "@jupyter-widgets/controls",
            "_view_module_version": "1.5.0",
            "_view_name": "HBoxView",
            "box_style": "",
            "children": [
              "IPY_MODEL_490c64b0eaa8427bb047ad77095cd9ed",
              "IPY_MODEL_e76a021c6a51457d822d1c4f7a938cf6",
              "IPY_MODEL_97510b6cfa7f414a84ca4dead00c4b90"
            ],
            "layout": "IPY_MODEL_1fa08a836d9c494e9f391fa5cdc0afc0"
          }
        },
        "490c64b0eaa8427bb047ad77095cd9ed": {
          "model_module": "@jupyter-widgets/controls",
          "model_name": "HTMLModel",
          "model_module_version": "1.5.0",
          "state": {
            "_dom_classes": [],
            "_model_module": "@jupyter-widgets/controls",
            "_model_module_version": "1.5.0",
            "_model_name": "HTMLModel",
            "_view_count": null,
            "_view_module": "@jupyter-widgets/controls",
            "_view_module_version": "1.5.0",
            "_view_name": "HTMLView",
            "description": "",
            "description_tooltip": null,
            "layout": "IPY_MODEL_ff35026ac8884fe9b8bbe7e85fa8ad3f",
            "placeholder": "​",
            "style": "IPY_MODEL_b1c23e4bff174d8d859447cc3793cd4b",
            "value": "Classifying chunk 2: 100%"
          }
        },
        "e76a021c6a51457d822d1c4f7a938cf6": {
          "model_module": "@jupyter-widgets/controls",
          "model_name": "FloatProgressModel",
          "model_module_version": "1.5.0",
          "state": {
            "_dom_classes": [],
            "_model_module": "@jupyter-widgets/controls",
            "_model_module_version": "1.5.0",
            "_model_name": "FloatProgressModel",
            "_view_count": null,
            "_view_module": "@jupyter-widgets/controls",
            "_view_module_version": "1.5.0",
            "_view_name": "ProgressView",
            "bar_style": "success",
            "description": "",
            "description_tooltip": null,
            "layout": "IPY_MODEL_3c3fd2b666634a54a9000d97d76a79cd",
            "max": 5000,
            "min": 0,
            "orientation": "horizontal",
            "style": "IPY_MODEL_8a366162e98847b88ec298d1b1790392",
            "value": 5000
          }
        },
        "97510b6cfa7f414a84ca4dead00c4b90": {
          "model_module": "@jupyter-widgets/controls",
          "model_name": "HTMLModel",
          "model_module_version": "1.5.0",
          "state": {
            "_dom_classes": [],
            "_model_module": "@jupyter-widgets/controls",
            "_model_module_version": "1.5.0",
            "_model_name": "HTMLModel",
            "_view_count": null,
            "_view_module": "@jupyter-widgets/controls",
            "_view_module_version": "1.5.0",
            "_view_name": "HTMLView",
            "description": "",
            "description_tooltip": null,
            "layout": "IPY_MODEL_30de5e5556b8428d9e87c35b0e3e40e8",
            "placeholder": "​",
            "style": "IPY_MODEL_371e4918b2714d389a11aa98b0074c34",
            "value": " 5000/5000 [09:12&lt;00:00,  8.37 examples/s]"
          }
        },
        "1fa08a836d9c494e9f391fa5cdc0afc0": {
          "model_module": "@jupyter-widgets/base",
          "model_name": "LayoutModel",
          "model_module_version": "1.2.0",
          "state": {
            "_model_module": "@jupyter-widgets/base",
            "_model_module_version": "1.2.0",
            "_model_name": "LayoutModel",
            "_view_count": null,
            "_view_module": "@jupyter-widgets/base",
            "_view_module_version": "1.2.0",
            "_view_name": "LayoutView",
            "align_content": null,
            "align_items": null,
            "align_self": null,
            "border": null,
            "bottom": null,
            "display": null,
            "flex": null,
            "flex_flow": null,
            "grid_area": null,
            "grid_auto_columns": null,
            "grid_auto_flow": null,
            "grid_auto_rows": null,
            "grid_column": null,
            "grid_gap": null,
            "grid_row": null,
            "grid_template_areas": null,
            "grid_template_columns": null,
            "grid_template_rows": null,
            "height": null,
            "justify_content": null,
            "justify_items": null,
            "left": null,
            "margin": null,
            "max_height": null,
            "max_width": null,
            "min_height": null,
            "min_width": null,
            "object_fit": null,
            "object_position": null,
            "order": null,
            "overflow": null,
            "overflow_x": null,
            "overflow_y": null,
            "padding": null,
            "right": null,
            "top": null,
            "visibility": null,
            "width": null
          }
        },
        "ff35026ac8884fe9b8bbe7e85fa8ad3f": {
          "model_module": "@jupyter-widgets/base",
          "model_name": "LayoutModel",
          "model_module_version": "1.2.0",
          "state": {
            "_model_module": "@jupyter-widgets/base",
            "_model_module_version": "1.2.0",
            "_model_name": "LayoutModel",
            "_view_count": null,
            "_view_module": "@jupyter-widgets/base",
            "_view_module_version": "1.2.0",
            "_view_name": "LayoutView",
            "align_content": null,
            "align_items": null,
            "align_self": null,
            "border": null,
            "bottom": null,
            "display": null,
            "flex": null,
            "flex_flow": null,
            "grid_area": null,
            "grid_auto_columns": null,
            "grid_auto_flow": null,
            "grid_auto_rows": null,
            "grid_column": null,
            "grid_gap": null,
            "grid_row": null,
            "grid_template_areas": null,
            "grid_template_columns": null,
            "grid_template_rows": null,
            "height": null,
            "justify_content": null,
            "justify_items": null,
            "left": null,
            "margin": null,
            "max_height": null,
            "max_width": null,
            "min_height": null,
            "min_width": null,
            "object_fit": null,
            "object_position": null,
            "order": null,
            "overflow": null,
            "overflow_x": null,
            "overflow_y": null,
            "padding": null,
            "right": null,
            "top": null,
            "visibility": null,
            "width": null
          }
        },
        "b1c23e4bff174d8d859447cc3793cd4b": {
          "model_module": "@jupyter-widgets/controls",
          "model_name": "DescriptionStyleModel",
          "model_module_version": "1.5.0",
          "state": {
            "_model_module": "@jupyter-widgets/controls",
            "_model_module_version": "1.5.0",
            "_model_name": "DescriptionStyleModel",
            "_view_count": null,
            "_view_module": "@jupyter-widgets/base",
            "_view_module_version": "1.2.0",
            "_view_name": "StyleView",
            "description_width": ""
          }
        },
        "3c3fd2b666634a54a9000d97d76a79cd": {
          "model_module": "@jupyter-widgets/base",
          "model_name": "LayoutModel",
          "model_module_version": "1.2.0",
          "state": {
            "_model_module": "@jupyter-widgets/base",
            "_model_module_version": "1.2.0",
            "_model_name": "LayoutModel",
            "_view_count": null,
            "_view_module": "@jupyter-widgets/base",
            "_view_module_version": "1.2.0",
            "_view_name": "LayoutView",
            "align_content": null,
            "align_items": null,
            "align_self": null,
            "border": null,
            "bottom": null,
            "display": null,
            "flex": null,
            "flex_flow": null,
            "grid_area": null,
            "grid_auto_columns": null,
            "grid_auto_flow": null,
            "grid_auto_rows": null,
            "grid_column": null,
            "grid_gap": null,
            "grid_row": null,
            "grid_template_areas": null,
            "grid_template_columns": null,
            "grid_template_rows": null,
            "height": null,
            "justify_content": null,
            "justify_items": null,
            "left": null,
            "margin": null,
            "max_height": null,
            "max_width": null,
            "min_height": null,
            "min_width": null,
            "object_fit": null,
            "object_position": null,
            "order": null,
            "overflow": null,
            "overflow_x": null,
            "overflow_y": null,
            "padding": null,
            "right": null,
            "top": null,
            "visibility": null,
            "width": null
          }
        },
        "8a366162e98847b88ec298d1b1790392": {
          "model_module": "@jupyter-widgets/controls",
          "model_name": "ProgressStyleModel",
          "model_module_version": "1.5.0",
          "state": {
            "_model_module": "@jupyter-widgets/controls",
            "_model_module_version": "1.5.0",
            "_model_name": "ProgressStyleModel",
            "_view_count": null,
            "_view_module": "@jupyter-widgets/base",
            "_view_module_version": "1.2.0",
            "_view_name": "StyleView",
            "bar_color": null,
            "description_width": ""
          }
        },
        "30de5e5556b8428d9e87c35b0e3e40e8": {
          "model_module": "@jupyter-widgets/base",
          "model_name": "LayoutModel",
          "model_module_version": "1.2.0",
          "state": {
            "_model_module": "@jupyter-widgets/base",
            "_model_module_version": "1.2.0",
            "_model_name": "LayoutModel",
            "_view_count": null,
            "_view_module": "@jupyter-widgets/base",
            "_view_module_version": "1.2.0",
            "_view_name": "LayoutView",
            "align_content": null,
            "align_items": null,
            "align_self": null,
            "border": null,
            "bottom": null,
            "display": null,
            "flex": null,
            "flex_flow": null,
            "grid_area": null,
            "grid_auto_columns": null,
            "grid_auto_flow": null,
            "grid_auto_rows": null,
            "grid_column": null,
            "grid_gap": null,
            "grid_row": null,
            "grid_template_areas": null,
            "grid_template_columns": null,
            "grid_template_rows": null,
            "height": null,
            "justify_content": null,
            "justify_items": null,
            "left": null,
            "margin": null,
            "max_height": null,
            "max_width": null,
            "min_height": null,
            "min_width": null,
            "object_fit": null,
            "object_position": null,
            "order": null,
            "overflow": null,
            "overflow_x": null,
            "overflow_y": null,
            "padding": null,
            "right": null,
            "top": null,
            "visibility": null,
            "width": null
          }
        },
        "371e4918b2714d389a11aa98b0074c34": {
          "model_module": "@jupyter-widgets/controls",
          "model_name": "DescriptionStyleModel",
          "model_module_version": "1.5.0",
          "state": {
            "_model_module": "@jupyter-widgets/controls",
            "_model_module_version": "1.5.0",
            "_model_name": "DescriptionStyleModel",
            "_view_count": null,
            "_view_module": "@jupyter-widgets/base",
            "_view_module_version": "1.2.0",
            "_view_name": "StyleView",
            "description_width": ""
          }
        },
        "c4f819584c2d43d1b7efec134dcb9302": {
          "model_module": "@jupyter-widgets/controls",
          "model_name": "HBoxModel",
          "model_module_version": "1.5.0",
          "state": {
            "_dom_classes": [],
            "_model_module": "@jupyter-widgets/controls",
            "_model_module_version": "1.5.0",
            "_model_name": "HBoxModel",
            "_view_count": null,
            "_view_module": "@jupyter-widgets/controls",
            "_view_module_version": "1.5.0",
            "_view_name": "HBoxView",
            "box_style": "",
            "children": [
              "IPY_MODEL_0be6c0acb86c4a05af50fcfe25132054",
              "IPY_MODEL_9e2325a018e3418dac5be22c9cebe954",
              "IPY_MODEL_d01a19da09ae4512be07081e25ebe497"
            ],
            "layout": "IPY_MODEL_2e3493ece3a0429c9a6f288307e430b8"
          }
        },
        "0be6c0acb86c4a05af50fcfe25132054": {
          "model_module": "@jupyter-widgets/controls",
          "model_name": "HTMLModel",
          "model_module_version": "1.5.0",
          "state": {
            "_dom_classes": [],
            "_model_module": "@jupyter-widgets/controls",
            "_model_module_version": "1.5.0",
            "_model_name": "HTMLModel",
            "_view_count": null,
            "_view_module": "@jupyter-widgets/controls",
            "_view_module_version": "1.5.0",
            "_view_name": "HTMLView",
            "description": "",
            "description_tooltip": null,
            "layout": "IPY_MODEL_552825f53b974cbc9d9f3c76e900d3d3",
            "placeholder": "​",
            "style": "IPY_MODEL_bcf01e724f7a4da0b5e0bcf621248a39",
            "value": "Classifying chunk 3: 100%"
          }
        },
        "9e2325a018e3418dac5be22c9cebe954": {
          "model_module": "@jupyter-widgets/controls",
          "model_name": "FloatProgressModel",
          "model_module_version": "1.5.0",
          "state": {
            "_dom_classes": [],
            "_model_module": "@jupyter-widgets/controls",
            "_model_module_version": "1.5.0",
            "_model_name": "FloatProgressModel",
            "_view_count": null,
            "_view_module": "@jupyter-widgets/controls",
            "_view_module_version": "1.5.0",
            "_view_name": "ProgressView",
            "bar_style": "success",
            "description": "",
            "description_tooltip": null,
            "layout": "IPY_MODEL_a789665ef072417e9729bab80a92d33e",
            "max": 5000,
            "min": 0,
            "orientation": "horizontal",
            "style": "IPY_MODEL_de36fdc013eb4869a5bc723167f1c37e",
            "value": 5000
          }
        },
        "d01a19da09ae4512be07081e25ebe497": {
          "model_module": "@jupyter-widgets/controls",
          "model_name": "HTMLModel",
          "model_module_version": "1.5.0",
          "state": {
            "_dom_classes": [],
            "_model_module": "@jupyter-widgets/controls",
            "_model_module_version": "1.5.0",
            "_model_name": "HTMLModel",
            "_view_count": null,
            "_view_module": "@jupyter-widgets/controls",
            "_view_module_version": "1.5.0",
            "_view_name": "HTMLView",
            "description": "",
            "description_tooltip": null,
            "layout": "IPY_MODEL_b59de3e9b604480c946b28c7f5c81e45",
            "placeholder": "​",
            "style": "IPY_MODEL_3fe9908343e24146970b5a4ea3ff1cb9",
            "value": " 5000/5000 [09:17&lt;00:00, 16.44 examples/s]"
          }
        },
        "2e3493ece3a0429c9a6f288307e430b8": {
          "model_module": "@jupyter-widgets/base",
          "model_name": "LayoutModel",
          "model_module_version": "1.2.0",
          "state": {
            "_model_module": "@jupyter-widgets/base",
            "_model_module_version": "1.2.0",
            "_model_name": "LayoutModel",
            "_view_count": null,
            "_view_module": "@jupyter-widgets/base",
            "_view_module_version": "1.2.0",
            "_view_name": "LayoutView",
            "align_content": null,
            "align_items": null,
            "align_self": null,
            "border": null,
            "bottom": null,
            "display": null,
            "flex": null,
            "flex_flow": null,
            "grid_area": null,
            "grid_auto_columns": null,
            "grid_auto_flow": null,
            "grid_auto_rows": null,
            "grid_column": null,
            "grid_gap": null,
            "grid_row": null,
            "grid_template_areas": null,
            "grid_template_columns": null,
            "grid_template_rows": null,
            "height": null,
            "justify_content": null,
            "justify_items": null,
            "left": null,
            "margin": null,
            "max_height": null,
            "max_width": null,
            "min_height": null,
            "min_width": null,
            "object_fit": null,
            "object_position": null,
            "order": null,
            "overflow": null,
            "overflow_x": null,
            "overflow_y": null,
            "padding": null,
            "right": null,
            "top": null,
            "visibility": null,
            "width": null
          }
        },
        "552825f53b974cbc9d9f3c76e900d3d3": {
          "model_module": "@jupyter-widgets/base",
          "model_name": "LayoutModel",
          "model_module_version": "1.2.0",
          "state": {
            "_model_module": "@jupyter-widgets/base",
            "_model_module_version": "1.2.0",
            "_model_name": "LayoutModel",
            "_view_count": null,
            "_view_module": "@jupyter-widgets/base",
            "_view_module_version": "1.2.0",
            "_view_name": "LayoutView",
            "align_content": null,
            "align_items": null,
            "align_self": null,
            "border": null,
            "bottom": null,
            "display": null,
            "flex": null,
            "flex_flow": null,
            "grid_area": null,
            "grid_auto_columns": null,
            "grid_auto_flow": null,
            "grid_auto_rows": null,
            "grid_column": null,
            "grid_gap": null,
            "grid_row": null,
            "grid_template_areas": null,
            "grid_template_columns": null,
            "grid_template_rows": null,
            "height": null,
            "justify_content": null,
            "justify_items": null,
            "left": null,
            "margin": null,
            "max_height": null,
            "max_width": null,
            "min_height": null,
            "min_width": null,
            "object_fit": null,
            "object_position": null,
            "order": null,
            "overflow": null,
            "overflow_x": null,
            "overflow_y": null,
            "padding": null,
            "right": null,
            "top": null,
            "visibility": null,
            "width": null
          }
        },
        "bcf01e724f7a4da0b5e0bcf621248a39": {
          "model_module": "@jupyter-widgets/controls",
          "model_name": "DescriptionStyleModel",
          "model_module_version": "1.5.0",
          "state": {
            "_model_module": "@jupyter-widgets/controls",
            "_model_module_version": "1.5.0",
            "_model_name": "DescriptionStyleModel",
            "_view_count": null,
            "_view_module": "@jupyter-widgets/base",
            "_view_module_version": "1.2.0",
            "_view_name": "StyleView",
            "description_width": ""
          }
        },
        "a789665ef072417e9729bab80a92d33e": {
          "model_module": "@jupyter-widgets/base",
          "model_name": "LayoutModel",
          "model_module_version": "1.2.0",
          "state": {
            "_model_module": "@jupyter-widgets/base",
            "_model_module_version": "1.2.0",
            "_model_name": "LayoutModel",
            "_view_count": null,
            "_view_module": "@jupyter-widgets/base",
            "_view_module_version": "1.2.0",
            "_view_name": "LayoutView",
            "align_content": null,
            "align_items": null,
            "align_self": null,
            "border": null,
            "bottom": null,
            "display": null,
            "flex": null,
            "flex_flow": null,
            "grid_area": null,
            "grid_auto_columns": null,
            "grid_auto_flow": null,
            "grid_auto_rows": null,
            "grid_column": null,
            "grid_gap": null,
            "grid_row": null,
            "grid_template_areas": null,
            "grid_template_columns": null,
            "grid_template_rows": null,
            "height": null,
            "justify_content": null,
            "justify_items": null,
            "left": null,
            "margin": null,
            "max_height": null,
            "max_width": null,
            "min_height": null,
            "min_width": null,
            "object_fit": null,
            "object_position": null,
            "order": null,
            "overflow": null,
            "overflow_x": null,
            "overflow_y": null,
            "padding": null,
            "right": null,
            "top": null,
            "visibility": null,
            "width": null
          }
        },
        "de36fdc013eb4869a5bc723167f1c37e": {
          "model_module": "@jupyter-widgets/controls",
          "model_name": "ProgressStyleModel",
          "model_module_version": "1.5.0",
          "state": {
            "_model_module": "@jupyter-widgets/controls",
            "_model_module_version": "1.5.0",
            "_model_name": "ProgressStyleModel",
            "_view_count": null,
            "_view_module": "@jupyter-widgets/base",
            "_view_module_version": "1.2.0",
            "_view_name": "StyleView",
            "bar_color": null,
            "description_width": ""
          }
        },
        "b59de3e9b604480c946b28c7f5c81e45": {
          "model_module": "@jupyter-widgets/base",
          "model_name": "LayoutModel",
          "model_module_version": "1.2.0",
          "state": {
            "_model_module": "@jupyter-widgets/base",
            "_model_module_version": "1.2.0",
            "_model_name": "LayoutModel",
            "_view_count": null,
            "_view_module": "@jupyter-widgets/base",
            "_view_module_version": "1.2.0",
            "_view_name": "LayoutView",
            "align_content": null,
            "align_items": null,
            "align_self": null,
            "border": null,
            "bottom": null,
            "display": null,
            "flex": null,
            "flex_flow": null,
            "grid_area": null,
            "grid_auto_columns": null,
            "grid_auto_flow": null,
            "grid_auto_rows": null,
            "grid_column": null,
            "grid_gap": null,
            "grid_row": null,
            "grid_template_areas": null,
            "grid_template_columns": null,
            "grid_template_rows": null,
            "height": null,
            "justify_content": null,
            "justify_items": null,
            "left": null,
            "margin": null,
            "max_height": null,
            "max_width": null,
            "min_height": null,
            "min_width": null,
            "object_fit": null,
            "object_position": null,
            "order": null,
            "overflow": null,
            "overflow_x": null,
            "overflow_y": null,
            "padding": null,
            "right": null,
            "top": null,
            "visibility": null,
            "width": null
          }
        },
        "3fe9908343e24146970b5a4ea3ff1cb9": {
          "model_module": "@jupyter-widgets/controls",
          "model_name": "DescriptionStyleModel",
          "model_module_version": "1.5.0",
          "state": {
            "_model_module": "@jupyter-widgets/controls",
            "_model_module_version": "1.5.0",
            "_model_name": "DescriptionStyleModel",
            "_view_count": null,
            "_view_module": "@jupyter-widgets/base",
            "_view_module_version": "1.2.0",
            "_view_name": "StyleView",
            "description_width": ""
          }
        },
        "6f4c9b3cd2e048a099ef4a23351f5301": {
          "model_module": "@jupyter-widgets/controls",
          "model_name": "HBoxModel",
          "model_module_version": "1.5.0",
          "state": {
            "_dom_classes": [],
            "_model_module": "@jupyter-widgets/controls",
            "_model_module_version": "1.5.0",
            "_model_name": "HBoxModel",
            "_view_count": null,
            "_view_module": "@jupyter-widgets/controls",
            "_view_module_version": "1.5.0",
            "_view_name": "HBoxView",
            "box_style": "",
            "children": [
              "IPY_MODEL_c39e973b9b1d4591949e87e64fc9dd98",
              "IPY_MODEL_ddba7231307d4b7c954fa91f8fc7ff7b",
              "IPY_MODEL_7f590b25693e43aa96f8d63ec7a12e85"
            ],
            "layout": "IPY_MODEL_1c7ebf4b412b4dd7b21c131f7ae5790e"
          }
        },
        "c39e973b9b1d4591949e87e64fc9dd98": {
          "model_module": "@jupyter-widgets/controls",
          "model_name": "HTMLModel",
          "model_module_version": "1.5.0",
          "state": {
            "_dom_classes": [],
            "_model_module": "@jupyter-widgets/controls",
            "_model_module_version": "1.5.0",
            "_model_name": "HTMLModel",
            "_view_count": null,
            "_view_module": "@jupyter-widgets/controls",
            "_view_module_version": "1.5.0",
            "_view_name": "HTMLView",
            "description": "",
            "description_tooltip": null,
            "layout": "IPY_MODEL_963e931c365f4a13a9c5f1e809531c3b",
            "placeholder": "​",
            "style": "IPY_MODEL_5ece6b74a98f457bb1cce5e010e9fb47",
            "value": "Classifying chunk 4: 100%"
          }
        },
        "ddba7231307d4b7c954fa91f8fc7ff7b": {
          "model_module": "@jupyter-widgets/controls",
          "model_name": "FloatProgressModel",
          "model_module_version": "1.5.0",
          "state": {
            "_dom_classes": [],
            "_model_module": "@jupyter-widgets/controls",
            "_model_module_version": "1.5.0",
            "_model_name": "FloatProgressModel",
            "_view_count": null,
            "_view_module": "@jupyter-widgets/controls",
            "_view_module_version": "1.5.0",
            "_view_name": "ProgressView",
            "bar_style": "success",
            "description": "",
            "description_tooltip": null,
            "layout": "IPY_MODEL_9c5cd4b1110d445fa2781017d035b453",
            "max": 3750,
            "min": 0,
            "orientation": "horizontal",
            "style": "IPY_MODEL_4bf18d523dc44e768a8eb7089bc1c58b",
            "value": 3750
          }
        },
        "7f590b25693e43aa96f8d63ec7a12e85": {
          "model_module": "@jupyter-widgets/controls",
          "model_name": "HTMLModel",
          "model_module_version": "1.5.0",
          "state": {
            "_dom_classes": [],
            "_model_module": "@jupyter-widgets/controls",
            "_model_module_version": "1.5.0",
            "_model_name": "HTMLModel",
            "_view_count": null,
            "_view_module": "@jupyter-widgets/controls",
            "_view_module_version": "1.5.0",
            "_view_name": "HTMLView",
            "description": "",
            "description_tooltip": null,
            "layout": "IPY_MODEL_76b2b01b89f34d089a5a412144dd7996",
            "placeholder": "​",
            "style": "IPY_MODEL_bde5d12cf5ae418587311efd519a7a5e",
            "value": " 3750/3750 [04:41&lt;00:00,  9.34 examples/s]"
          }
        },
        "1c7ebf4b412b4dd7b21c131f7ae5790e": {
          "model_module": "@jupyter-widgets/base",
          "model_name": "LayoutModel",
          "model_module_version": "1.2.0",
          "state": {
            "_model_module": "@jupyter-widgets/base",
            "_model_module_version": "1.2.0",
            "_model_name": "LayoutModel",
            "_view_count": null,
            "_view_module": "@jupyter-widgets/base",
            "_view_module_version": "1.2.0",
            "_view_name": "LayoutView",
            "align_content": null,
            "align_items": null,
            "align_self": null,
            "border": null,
            "bottom": null,
            "display": null,
            "flex": null,
            "flex_flow": null,
            "grid_area": null,
            "grid_auto_columns": null,
            "grid_auto_flow": null,
            "grid_auto_rows": null,
            "grid_column": null,
            "grid_gap": null,
            "grid_row": null,
            "grid_template_areas": null,
            "grid_template_columns": null,
            "grid_template_rows": null,
            "height": null,
            "justify_content": null,
            "justify_items": null,
            "left": null,
            "margin": null,
            "max_height": null,
            "max_width": null,
            "min_height": null,
            "min_width": null,
            "object_fit": null,
            "object_position": null,
            "order": null,
            "overflow": null,
            "overflow_x": null,
            "overflow_y": null,
            "padding": null,
            "right": null,
            "top": null,
            "visibility": null,
            "width": null
          }
        },
        "963e931c365f4a13a9c5f1e809531c3b": {
          "model_module": "@jupyter-widgets/base",
          "model_name": "LayoutModel",
          "model_module_version": "1.2.0",
          "state": {
            "_model_module": "@jupyter-widgets/base",
            "_model_module_version": "1.2.0",
            "_model_name": "LayoutModel",
            "_view_count": null,
            "_view_module": "@jupyter-widgets/base",
            "_view_module_version": "1.2.0",
            "_view_name": "LayoutView",
            "align_content": null,
            "align_items": null,
            "align_self": null,
            "border": null,
            "bottom": null,
            "display": null,
            "flex": null,
            "flex_flow": null,
            "grid_area": null,
            "grid_auto_columns": null,
            "grid_auto_flow": null,
            "grid_auto_rows": null,
            "grid_column": null,
            "grid_gap": null,
            "grid_row": null,
            "grid_template_areas": null,
            "grid_template_columns": null,
            "grid_template_rows": null,
            "height": null,
            "justify_content": null,
            "justify_items": null,
            "left": null,
            "margin": null,
            "max_height": null,
            "max_width": null,
            "min_height": null,
            "min_width": null,
            "object_fit": null,
            "object_position": null,
            "order": null,
            "overflow": null,
            "overflow_x": null,
            "overflow_y": null,
            "padding": null,
            "right": null,
            "top": null,
            "visibility": null,
            "width": null
          }
        },
        "5ece6b74a98f457bb1cce5e010e9fb47": {
          "model_module": "@jupyter-widgets/controls",
          "model_name": "DescriptionStyleModel",
          "model_module_version": "1.5.0",
          "state": {
            "_model_module": "@jupyter-widgets/controls",
            "_model_module_version": "1.5.0",
            "_model_name": "DescriptionStyleModel",
            "_view_count": null,
            "_view_module": "@jupyter-widgets/base",
            "_view_module_version": "1.2.0",
            "_view_name": "StyleView",
            "description_width": ""
          }
        },
        "9c5cd4b1110d445fa2781017d035b453": {
          "model_module": "@jupyter-widgets/base",
          "model_name": "LayoutModel",
          "model_module_version": "1.2.0",
          "state": {
            "_model_module": "@jupyter-widgets/base",
            "_model_module_version": "1.2.0",
            "_model_name": "LayoutModel",
            "_view_count": null,
            "_view_module": "@jupyter-widgets/base",
            "_view_module_version": "1.2.0",
            "_view_name": "LayoutView",
            "align_content": null,
            "align_items": null,
            "align_self": null,
            "border": null,
            "bottom": null,
            "display": null,
            "flex": null,
            "flex_flow": null,
            "grid_area": null,
            "grid_auto_columns": null,
            "grid_auto_flow": null,
            "grid_auto_rows": null,
            "grid_column": null,
            "grid_gap": null,
            "grid_row": null,
            "grid_template_areas": null,
            "grid_template_columns": null,
            "grid_template_rows": null,
            "height": null,
            "justify_content": null,
            "justify_items": null,
            "left": null,
            "margin": null,
            "max_height": null,
            "max_width": null,
            "min_height": null,
            "min_width": null,
            "object_fit": null,
            "object_position": null,
            "order": null,
            "overflow": null,
            "overflow_x": null,
            "overflow_y": null,
            "padding": null,
            "right": null,
            "top": null,
            "visibility": null,
            "width": null
          }
        },
        "4bf18d523dc44e768a8eb7089bc1c58b": {
          "model_module": "@jupyter-widgets/controls",
          "model_name": "ProgressStyleModel",
          "model_module_version": "1.5.0",
          "state": {
            "_model_module": "@jupyter-widgets/controls",
            "_model_module_version": "1.5.0",
            "_model_name": "ProgressStyleModel",
            "_view_count": null,
            "_view_module": "@jupyter-widgets/base",
            "_view_module_version": "1.2.0",
            "_view_name": "StyleView",
            "bar_color": null,
            "description_width": ""
          }
        },
        "76b2b01b89f34d089a5a412144dd7996": {
          "model_module": "@jupyter-widgets/base",
          "model_name": "LayoutModel",
          "model_module_version": "1.2.0",
          "state": {
            "_model_module": "@jupyter-widgets/base",
            "_model_module_version": "1.2.0",
            "_model_name": "LayoutModel",
            "_view_count": null,
            "_view_module": "@jupyter-widgets/base",
            "_view_module_version": "1.2.0",
            "_view_name": "LayoutView",
            "align_content": null,
            "align_items": null,
            "align_self": null,
            "border": null,
            "bottom": null,
            "display": null,
            "flex": null,
            "flex_flow": null,
            "grid_area": null,
            "grid_auto_columns": null,
            "grid_auto_flow": null,
            "grid_auto_rows": null,
            "grid_column": null,
            "grid_gap": null,
            "grid_row": null,
            "grid_template_areas": null,
            "grid_template_columns": null,
            "grid_template_rows": null,
            "height": null,
            "justify_content": null,
            "justify_items": null,
            "left": null,
            "margin": null,
            "max_height": null,
            "max_width": null,
            "min_height": null,
            "min_width": null,
            "object_fit": null,
            "object_position": null,
            "order": null,
            "overflow": null,
            "overflow_x": null,
            "overflow_y": null,
            "padding": null,
            "right": null,
            "top": null,
            "visibility": null,
            "width": null
          }
        },
        "bde5d12cf5ae418587311efd519a7a5e": {
          "model_module": "@jupyter-widgets/controls",
          "model_name": "DescriptionStyleModel",
          "model_module_version": "1.5.0",
          "state": {
            "_model_module": "@jupyter-widgets/controls",
            "_model_module_version": "1.5.0",
            "_model_name": "DescriptionStyleModel",
            "_view_count": null,
            "_view_module": "@jupyter-widgets/base",
            "_view_module_version": "1.2.0",
            "_view_name": "StyleView",
            "description_width": ""
          }
        },
        "3ff43718448f4575b54cc075664f9c2b": {
          "model_module": "@jupyter-widgets/controls",
          "model_name": "HBoxModel",
          "model_module_version": "1.5.0",
          "state": {
            "_dom_classes": [],
            "_model_module": "@jupyter-widgets/controls",
            "_model_module_version": "1.5.0",
            "_model_name": "HBoxModel",
            "_view_count": null,
            "_view_module": "@jupyter-widgets/controls",
            "_view_module_version": "1.5.0",
            "_view_name": "HBoxView",
            "box_style": "",
            "children": [
              "IPY_MODEL_c9afbea85d3040088a143b27b394911e",
              "IPY_MODEL_8fc05a86e70d40b9bf7ba673ce2791ef",
              "IPY_MODEL_33670c85bfce4a518b0347f664d14d1d"
            ],
            "layout": "IPY_MODEL_b25f2d423ce648179320004239d947ee"
          }
        },
        "c9afbea85d3040088a143b27b394911e": {
          "model_module": "@jupyter-widgets/controls",
          "model_name": "HTMLModel",
          "model_module_version": "1.5.0",
          "state": {
            "_dom_classes": [],
            "_model_module": "@jupyter-widgets/controls",
            "_model_module_version": "1.5.0",
            "_model_name": "HTMLModel",
            "_view_count": null,
            "_view_module": "@jupyter-widgets/controls",
            "_view_module_version": "1.5.0",
            "_view_name": "HTMLView",
            "description": "",
            "description_tooltip": null,
            "layout": "IPY_MODEL_f4eb171f56da4c45860ddababa42f0fc",
            "placeholder": "​",
            "style": "IPY_MODEL_ce060fae7de04c738cf5a25cb330fc1d",
            "value": "Classifying chunk 6: 100%"
          }
        },
        "8fc05a86e70d40b9bf7ba673ce2791ef": {
          "model_module": "@jupyter-widgets/controls",
          "model_name": "FloatProgressModel",
          "model_module_version": "1.5.0",
          "state": {
            "_dom_classes": [],
            "_model_module": "@jupyter-widgets/controls",
            "_model_module_version": "1.5.0",
            "_model_name": "FloatProgressModel",
            "_view_count": null,
            "_view_module": "@jupyter-widgets/controls",
            "_view_module_version": "1.5.0",
            "_view_name": "ProgressView",
            "bar_style": "success",
            "description": "",
            "description_tooltip": null,
            "layout": "IPY_MODEL_a4ab3f860f5b4caaaa9740aa20bd861c",
            "max": 3750,
            "min": 0,
            "orientation": "horizontal",
            "style": "IPY_MODEL_9d2d9e386a8b4b9081d6e2b07f232f86",
            "value": 3750
          }
        },
        "33670c85bfce4a518b0347f664d14d1d": {
          "model_module": "@jupyter-widgets/controls",
          "model_name": "HTMLModel",
          "model_module_version": "1.5.0",
          "state": {
            "_dom_classes": [],
            "_model_module": "@jupyter-widgets/controls",
            "_model_module_version": "1.5.0",
            "_model_name": "HTMLModel",
            "_view_count": null,
            "_view_module": "@jupyter-widgets/controls",
            "_view_module_version": "1.5.0",
            "_view_name": "HTMLView",
            "description": "",
            "description_tooltip": null,
            "layout": "IPY_MODEL_b7f66ebd71b24b438d24b8cd4f6859f9",
            "placeholder": "​",
            "style": "IPY_MODEL_0b3f5d69fa13496db48d6d1020791107",
            "value": " 3750/3750 [04:41&lt;00:00,  9.39 examples/s]"
          }
        },
        "b25f2d423ce648179320004239d947ee": {
          "model_module": "@jupyter-widgets/base",
          "model_name": "LayoutModel",
          "model_module_version": "1.2.0",
          "state": {
            "_model_module": "@jupyter-widgets/base",
            "_model_module_version": "1.2.0",
            "_model_name": "LayoutModel",
            "_view_count": null,
            "_view_module": "@jupyter-widgets/base",
            "_view_module_version": "1.2.0",
            "_view_name": "LayoutView",
            "align_content": null,
            "align_items": null,
            "align_self": null,
            "border": null,
            "bottom": null,
            "display": null,
            "flex": null,
            "flex_flow": null,
            "grid_area": null,
            "grid_auto_columns": null,
            "grid_auto_flow": null,
            "grid_auto_rows": null,
            "grid_column": null,
            "grid_gap": null,
            "grid_row": null,
            "grid_template_areas": null,
            "grid_template_columns": null,
            "grid_template_rows": null,
            "height": null,
            "justify_content": null,
            "justify_items": null,
            "left": null,
            "margin": null,
            "max_height": null,
            "max_width": null,
            "min_height": null,
            "min_width": null,
            "object_fit": null,
            "object_position": null,
            "order": null,
            "overflow": null,
            "overflow_x": null,
            "overflow_y": null,
            "padding": null,
            "right": null,
            "top": null,
            "visibility": null,
            "width": null
          }
        },
        "f4eb171f56da4c45860ddababa42f0fc": {
          "model_module": "@jupyter-widgets/base",
          "model_name": "LayoutModel",
          "model_module_version": "1.2.0",
          "state": {
            "_model_module": "@jupyter-widgets/base",
            "_model_module_version": "1.2.0",
            "_model_name": "LayoutModel",
            "_view_count": null,
            "_view_module": "@jupyter-widgets/base",
            "_view_module_version": "1.2.0",
            "_view_name": "LayoutView",
            "align_content": null,
            "align_items": null,
            "align_self": null,
            "border": null,
            "bottom": null,
            "display": null,
            "flex": null,
            "flex_flow": null,
            "grid_area": null,
            "grid_auto_columns": null,
            "grid_auto_flow": null,
            "grid_auto_rows": null,
            "grid_column": null,
            "grid_gap": null,
            "grid_row": null,
            "grid_template_areas": null,
            "grid_template_columns": null,
            "grid_template_rows": null,
            "height": null,
            "justify_content": null,
            "justify_items": null,
            "left": null,
            "margin": null,
            "max_height": null,
            "max_width": null,
            "min_height": null,
            "min_width": null,
            "object_fit": null,
            "object_position": null,
            "order": null,
            "overflow": null,
            "overflow_x": null,
            "overflow_y": null,
            "padding": null,
            "right": null,
            "top": null,
            "visibility": null,
            "width": null
          }
        },
        "ce060fae7de04c738cf5a25cb330fc1d": {
          "model_module": "@jupyter-widgets/controls",
          "model_name": "DescriptionStyleModel",
          "model_module_version": "1.5.0",
          "state": {
            "_model_module": "@jupyter-widgets/controls",
            "_model_module_version": "1.5.0",
            "_model_name": "DescriptionStyleModel",
            "_view_count": null,
            "_view_module": "@jupyter-widgets/base",
            "_view_module_version": "1.2.0",
            "_view_name": "StyleView",
            "description_width": ""
          }
        },
        "a4ab3f860f5b4caaaa9740aa20bd861c": {
          "model_module": "@jupyter-widgets/base",
          "model_name": "LayoutModel",
          "model_module_version": "1.2.0",
          "state": {
            "_model_module": "@jupyter-widgets/base",
            "_model_module_version": "1.2.0",
            "_model_name": "LayoutModel",
            "_view_count": null,
            "_view_module": "@jupyter-widgets/base",
            "_view_module_version": "1.2.0",
            "_view_name": "LayoutView",
            "align_content": null,
            "align_items": null,
            "align_self": null,
            "border": null,
            "bottom": null,
            "display": null,
            "flex": null,
            "flex_flow": null,
            "grid_area": null,
            "grid_auto_columns": null,
            "grid_auto_flow": null,
            "grid_auto_rows": null,
            "grid_column": null,
            "grid_gap": null,
            "grid_row": null,
            "grid_template_areas": null,
            "grid_template_columns": null,
            "grid_template_rows": null,
            "height": null,
            "justify_content": null,
            "justify_items": null,
            "left": null,
            "margin": null,
            "max_height": null,
            "max_width": null,
            "min_height": null,
            "min_width": null,
            "object_fit": null,
            "object_position": null,
            "order": null,
            "overflow": null,
            "overflow_x": null,
            "overflow_y": null,
            "padding": null,
            "right": null,
            "top": null,
            "visibility": null,
            "width": null
          }
        },
        "9d2d9e386a8b4b9081d6e2b07f232f86": {
          "model_module": "@jupyter-widgets/controls",
          "model_name": "ProgressStyleModel",
          "model_module_version": "1.5.0",
          "state": {
            "_model_module": "@jupyter-widgets/controls",
            "_model_module_version": "1.5.0",
            "_model_name": "ProgressStyleModel",
            "_view_count": null,
            "_view_module": "@jupyter-widgets/base",
            "_view_module_version": "1.2.0",
            "_view_name": "StyleView",
            "bar_color": null,
            "description_width": ""
          }
        },
        "b7f66ebd71b24b438d24b8cd4f6859f9": {
          "model_module": "@jupyter-widgets/base",
          "model_name": "LayoutModel",
          "model_module_version": "1.2.0",
          "state": {
            "_model_module": "@jupyter-widgets/base",
            "_model_module_version": "1.2.0",
            "_model_name": "LayoutModel",
            "_view_count": null,
            "_view_module": "@jupyter-widgets/base",
            "_view_module_version": "1.2.0",
            "_view_name": "LayoutView",
            "align_content": null,
            "align_items": null,
            "align_self": null,
            "border": null,
            "bottom": null,
            "display": null,
            "flex": null,
            "flex_flow": null,
            "grid_area": null,
            "grid_auto_columns": null,
            "grid_auto_flow": null,
            "grid_auto_rows": null,
            "grid_column": null,
            "grid_gap": null,
            "grid_row": null,
            "grid_template_areas": null,
            "grid_template_columns": null,
            "grid_template_rows": null,
            "height": null,
            "justify_content": null,
            "justify_items": null,
            "left": null,
            "margin": null,
            "max_height": null,
            "max_width": null,
            "min_height": null,
            "min_width": null,
            "object_fit": null,
            "object_position": null,
            "order": null,
            "overflow": null,
            "overflow_x": null,
            "overflow_y": null,
            "padding": null,
            "right": null,
            "top": null,
            "visibility": null,
            "width": null
          }
        },
        "0b3f5d69fa13496db48d6d1020791107": {
          "model_module": "@jupyter-widgets/controls",
          "model_name": "DescriptionStyleModel",
          "model_module_version": "1.5.0",
          "state": {
            "_model_module": "@jupyter-widgets/controls",
            "_model_module_version": "1.5.0",
            "_model_name": "DescriptionStyleModel",
            "_view_count": null,
            "_view_module": "@jupyter-widgets/base",
            "_view_module_version": "1.2.0",
            "_view_name": "StyleView",
            "description_width": ""
          }
        }
      }
    }
  },
  "cells": [
    {
      "cell_type": "markdown",
      "metadata": {
        "id": "view-in-github",
        "colab_type": "text"
      },
      "source": [
        "<a href=\"https://colab.research.google.com/github/Cutie-tee/Roboreviews_project/blob/main/Clustering_with_zero_classifcation_topic_modelling.ipynb\" target=\"_parent\"><img src=\"https://colab.research.google.com/assets/colab-badge.svg\" alt=\"Open In Colab\"/></a>"
      ]
    },
    {
      "cell_type": "markdown",
      "source": [
        "Dataset consists of 3 files: 1429_1.csv\n",
        "Datafiniti_Amazon_Consumer_Reviews_of_Amazon_Products.csv\n",
        "Datafiniti_Amazon_Consumer_Reviews_of_Amazon_Products_May19.csv\n",
        "\n",
        "\n"
      ],
      "metadata": {
        "id": "AiGNuG9FxzRc"
      }
    },
    {
      "cell_type": "code",
      "source": [
        "combined_data['reviews.username'] = combined_data['reviews.username'].fillna(\"Anonymous\")\n",
        "combined_data['name'] = combined_data['name'].fillna(\"Unknown\")\n",
        "\n",
        "combined_data['reviews.doRecommend'] = combined_data['reviews.doRecommend'].map({'Yes': True, 'No': False})\n",
        "\n",
        "assert combined_data['reviews.rating'].between(1, 5).all()\n",
        "\n",
        "combined_data.to_csv('final_preprocessed_reviews.csv', index=False)\n",
        "print(\"Final preprocessed dataset saved.\")\n",
        "\n"
      ],
      "metadata": {
        "id": "7AuOZR_kBMz7",
        "outputId": "d6e9d754-6e13-4de9-d170-0462e89ca5d4",
        "colab": {
          "base_uri": "https://localhost:8080/"
        }
      },
      "execution_count": null,
      "outputs": [
        {
          "output_type": "stream",
          "name": "stdout",
          "text": [
            "Final preprocessed dataset saved.\n"
          ]
        }
      ]
    },
    {
      "cell_type": "markdown",
      "source": [],
      "metadata": {
        "id": "r2HTjrCs07iz"
      }
    },
    {
      "cell_type": "markdown",
      "source": [
        "**Sentinent analysis  with RoBerta-base**"
      ],
      "metadata": {
        "id": "CdxvFw793L6V"
      }
    },
    {
      "cell_type": "markdown",
      "source": [
        "**Clustering based on emrging trends to ascertain partner growth opportuntities** . Lifestyle Enhancers:\n",
        "\n",
        "Products designed to improve daily routines or convenience.\n",
        "Includes items like Nespresso pods, smart assistants, pet carriers, and other gadgets that simplify life.\n",
        "Creative and Productivity Tools:\n",
        "\n",
        "Products for work, study, or creative activities.\n",
        "Includes laptops, tablets, keyboards, laptop stands, webcams, and styluses.\n",
        "Health and Wellness:\n",
        "\n",
        "Devices that focus on personal health, fitness, or beauty.\n",
        "Includes fitness trackers, electric massagers, hairdryers, and grooming devices.\n",
        "Entertainment and Immersion:\n",
        "\n",
        "Products that provide entertainment or enhanced experiences.\n",
        "Includes gaming consoles, headphones, speakers, VR headsets, and streaming devices.\n",
        "Power and Connectivity Solutions:\n",
        "\n",
        "Products that enable devices to stay powered or connected.\n",
        "Includes chargers, batteries, power banks, docking stations, and USB hubs.\n",
        "Eco-Friendly and Sustainable Solutions:\n",
        "\n",
        "Products marketed as sustainable or environmentally friendly."
      ],
      "metadata": {
        "id": "g3ZLVzU5UW_P"
      }
    },
    {
      "cell_type": "code",
      "source": [
        "!pip install datasets"
      ],
      "metadata": {
        "colab": {
          "base_uri": "https://localhost:8080/"
        },
        "id": "pnlQ0btXtINy",
        "outputId": "b4f9a523-6ffd-49c0-ee4d-9fa86ca62c91"
      },
      "execution_count": null,
      "outputs": [
        {
          "output_type": "stream",
          "name": "stdout",
          "text": [
            "Collecting datasets\n",
            "  Downloading datasets-3.1.0-py3-none-any.whl.metadata (20 kB)\n",
            "Requirement already satisfied: filelock in /usr/local/lib/python3.10/dist-packages (from datasets) (3.16.1)\n",
            "Requirement already satisfied: numpy>=1.17 in /usr/local/lib/python3.10/dist-packages (from datasets) (1.26.4)\n",
            "Requirement already satisfied: pyarrow>=15.0.0 in /usr/local/lib/python3.10/dist-packages (from datasets) (17.0.0)\n",
            "Collecting dill<0.3.9,>=0.3.0 (from datasets)\n",
            "  Downloading dill-0.3.8-py3-none-any.whl.metadata (10 kB)\n",
            "Requirement already satisfied: pandas in /usr/local/lib/python3.10/dist-packages (from datasets) (2.2.3)\n",
            "Requirement already satisfied: requests>=2.32.2 in /usr/local/lib/python3.10/dist-packages (from datasets) (2.32.3)\n",
            "Requirement already satisfied: tqdm>=4.66.3 in /usr/local/lib/python3.10/dist-packages (from datasets) (4.66.6)\n",
            "Collecting xxhash (from datasets)\n",
            "  Downloading xxhash-3.5.0-cp310-cp310-manylinux_2_17_x86_64.manylinux2014_x86_64.whl.metadata (12 kB)\n",
            "Collecting multiprocess<0.70.17 (from datasets)\n",
            "  Downloading multiprocess-0.70.16-py310-none-any.whl.metadata (7.2 kB)\n",
            "Collecting fsspec<=2024.9.0,>=2023.1.0 (from fsspec[http]<=2024.9.0,>=2023.1.0->datasets)\n",
            "  Downloading fsspec-2024.9.0-py3-none-any.whl.metadata (11 kB)\n",
            "Requirement already satisfied: aiohttp in /usr/local/lib/python3.10/dist-packages (from datasets) (3.11.9)\n",
            "Requirement already satisfied: huggingface-hub>=0.23.0 in /usr/local/lib/python3.10/dist-packages (from datasets) (0.26.3)\n",
            "Requirement already satisfied: packaging in /usr/local/lib/python3.10/dist-packages (from datasets) (24.2)\n",
            "Requirement already satisfied: pyyaml>=5.1 in /usr/local/lib/python3.10/dist-packages (from datasets) (6.0.2)\n",
            "Requirement already satisfied: aiohappyeyeballs>=2.3.0 in /usr/local/lib/python3.10/dist-packages (from aiohttp->datasets) (2.4.4)\n",
            "Requirement already satisfied: aiosignal>=1.1.2 in /usr/local/lib/python3.10/dist-packages (from aiohttp->datasets) (1.3.1)\n",
            "Requirement already satisfied: async-timeout<6.0,>=4.0 in /usr/local/lib/python3.10/dist-packages (from aiohttp->datasets) (4.0.3)\n",
            "Requirement already satisfied: attrs>=17.3.0 in /usr/local/lib/python3.10/dist-packages (from aiohttp->datasets) (24.2.0)\n",
            "Requirement already satisfied: frozenlist>=1.1.1 in /usr/local/lib/python3.10/dist-packages (from aiohttp->datasets) (1.5.0)\n",
            "Requirement already satisfied: multidict<7.0,>=4.5 in /usr/local/lib/python3.10/dist-packages (from aiohttp->datasets) (6.1.0)\n",
            "Requirement already satisfied: propcache>=0.2.0 in /usr/local/lib/python3.10/dist-packages (from aiohttp->datasets) (0.2.1)\n",
            "Requirement already satisfied: yarl<2.0,>=1.17.0 in /usr/local/lib/python3.10/dist-packages (from aiohttp->datasets) (1.18.3)\n",
            "Requirement already satisfied: typing-extensions>=3.7.4.3 in /usr/local/lib/python3.10/dist-packages (from huggingface-hub>=0.23.0->datasets) (4.12.2)\n",
            "Requirement already satisfied: charset-normalizer<4,>=2 in /usr/local/lib/python3.10/dist-packages (from requests>=2.32.2->datasets) (3.4.0)\n",
            "Requirement already satisfied: idna<4,>=2.5 in /usr/local/lib/python3.10/dist-packages (from requests>=2.32.2->datasets) (3.10)\n",
            "Requirement already satisfied: urllib3<3,>=1.21.1 in /usr/local/lib/python3.10/dist-packages (from requests>=2.32.2->datasets) (2.2.3)\n",
            "Requirement already satisfied: certifi>=2017.4.17 in /usr/local/lib/python3.10/dist-packages (from requests>=2.32.2->datasets) (2024.8.30)\n",
            "Requirement already satisfied: python-dateutil>=2.8.2 in /usr/local/lib/python3.10/dist-packages (from pandas->datasets) (2.8.2)\n",
            "Requirement already satisfied: pytz>=2020.1 in /usr/local/lib/python3.10/dist-packages (from pandas->datasets) (2024.2)\n",
            "Requirement already satisfied: tzdata>=2022.7 in /usr/local/lib/python3.10/dist-packages (from pandas->datasets) (2024.2)\n",
            "Requirement already satisfied: six>=1.5 in /usr/local/lib/python3.10/dist-packages (from python-dateutil>=2.8.2->pandas->datasets) (1.16.0)\n",
            "Downloading datasets-3.1.0-py3-none-any.whl (480 kB)\n",
            "\u001b[2K   \u001b[90m━━━━━━━━━━━━━━━━━━━━━━━━━━━━━━━━━━━━━━━━\u001b[0m \u001b[32m480.6/480.6 kB\u001b[0m \u001b[31m8.7 MB/s\u001b[0m eta \u001b[36m0:00:00\u001b[0m\n",
            "\u001b[?25hDownloading dill-0.3.8-py3-none-any.whl (116 kB)\n",
            "\u001b[2K   \u001b[90m━━━━━━━━━━━━━━━━━━━━━━━━━━━━━━━━━━━━━━━━\u001b[0m \u001b[32m116.3/116.3 kB\u001b[0m \u001b[31m9.6 MB/s\u001b[0m eta \u001b[36m0:00:00\u001b[0m\n",
            "\u001b[?25hDownloading fsspec-2024.9.0-py3-none-any.whl (179 kB)\n",
            "\u001b[2K   \u001b[90m━━━━━━━━━━━━━━━━━━━━━━━━━━━━━━━━━━━━━━━━\u001b[0m \u001b[32m179.3/179.3 kB\u001b[0m \u001b[31m16.4 MB/s\u001b[0m eta \u001b[36m0:00:00\u001b[0m\n",
            "\u001b[?25hDownloading multiprocess-0.70.16-py310-none-any.whl (134 kB)\n",
            "\u001b[2K   \u001b[90m━━━━━━━━━━━━━━━━━━━━━━━━━━━━━━━━━━━━━━━━\u001b[0m \u001b[32m134.8/134.8 kB\u001b[0m \u001b[31m12.4 MB/s\u001b[0m eta \u001b[36m0:00:00\u001b[0m\n",
            "\u001b[?25hDownloading xxhash-3.5.0-cp310-cp310-manylinux_2_17_x86_64.manylinux2014_x86_64.whl (194 kB)\n",
            "\u001b[2K   \u001b[90m━━━━━━━━━━━━━━━━━━━━━━━━━━━━━━━━━━━━━━━━\u001b[0m \u001b[32m194.1/194.1 kB\u001b[0m \u001b[31m17.9 MB/s\u001b[0m eta \u001b[36m0:00:00\u001b[0m\n",
            "\u001b[?25hInstalling collected packages: xxhash, fsspec, dill, multiprocess, datasets\n",
            "  Attempting uninstall: fsspec\n",
            "    Found existing installation: fsspec 2024.10.0\n",
            "    Uninstalling fsspec-2024.10.0:\n",
            "      Successfully uninstalled fsspec-2024.10.0\n",
            "\u001b[31mERROR: pip's dependency resolver does not currently take into account all the packages that are installed. This behaviour is the source of the following dependency conflicts.\n",
            "cudf-cu12 24.10.1 requires pandas<2.2.3dev0,>=2.0, but you have pandas 2.2.3 which is incompatible.\n",
            "gcsfs 2024.10.0 requires fsspec==2024.10.0, but you have fsspec 2024.9.0 which is incompatible.\u001b[0m\u001b[31m\n",
            "\u001b[0mSuccessfully installed datasets-3.1.0 dill-0.3.8 fsspec-2024.9.0 multiprocess-0.70.16 xxhash-3.5.0\n"
          ]
        }
      ]
    },
    {
      "cell_type": "code",
      "source": [
        "# Import necessary libraries\n",
        "from transformers import pipeline\n",
        "import pandas as pd\n",
        "import torch\n",
        "from datasets import Dataset\n",
        "from tqdm.notebook import tqdm\n",
        "\n",
        "# Check GPU availability\n",
        "print(\"Checking if we have a GPU...\")\n",
        "if torch.cuda.is_available():\n",
        "    print(\"Yes! Found GPU!\")\n",
        "    BATCH_SIZE = 8\n",
        "else:\n",
        "    print(\"No GPU found - will be slower\")\n",
        "    BATCH_SIZE = 4\n",
        "\n",
        "# Set up AI classifier\n",
        "print(\"Setting up the AI...\")\n",
        "classifier = pipeline(\n",
        "    \"zero-shot-classification\",\n",
        "    model=\"cross-encoder/nli-deberta-v3-large\",\n",
        "    device=0 if torch.cuda.is_available() else -1\n",
        ")\n",
        "\n",
        "# Product clusters for reviews\n",
        "categories = [\n",
        "    \"Daily Convenience\",\n",
        "    \"Creative and Productivity Tools\",\n",
        "    \"Health and Wellness\",\n",
        "    \"Entertainment and Immersion\",\n",
        "    \"Power and Connectivity Solutions\",\n",
        "    \"Eco-Friendly and Sustainable Solutions\"\n",
        "]\n",
        "\n",
        "# Function to classify reviews\n",
        "def classify_text(examples):\n",
        "    try:\n",
        "        outputs = classifier(\n",
        "            examples[\"reviews.text\"],\n",
        "            candidate_labels=categories,\n",
        "            batch_size=BATCH_SIZE\n",
        "        )\n",
        "\n",
        "        # Get the top category for each review\n",
        "        return {\n",
        "            \"category\": [output[\"labels\"][0] for output in outputs]\n",
        "        }\n",
        "    except Exception as e:\n",
        "        print(f\"Error processing batch: {str(e)}\")\n",
        "        return {\"category\": [\"Error\"] * len(examples[\"reviews.text\"])}\n",
        "\n",
        "# Process data in chunks (since DeBERTa uses more memory)\n",
        "print(\"\\nStarting to process reviews...\")\n",
        "chunk_size = 5000  # Process 5000 reviews at a time\n",
        "\n",
        "for i, chunk_df in enumerate(pd.read_csv('final_preprocessed_reviews.csv', chunksize=chunk_size)):\n",
        "    print(f\"\\nProcessing chunk {i+1}\")\n",
        "\n",
        "    # Convert chunk to dataset\n",
        "    chunk_dataset = Dataset.from_pandas(chunk_df)\n",
        "\n",
        "    # Process chunk\n",
        "    classified_chunk = chunk_dataset.map(\n",
        "        classify_text,\n",
        "        batched=True,\n",
        "        batch_size=BATCH_SIZE,\n",
        "        remove_columns=chunk_dataset.column_names,\n",
        "        desc=f\"Classifying chunk {i+1}\"\n",
        "    )\n",
        "\n",
        "    # Convert results back to DataFrame\n",
        "    chunk_results = pd.DataFrame({\n",
        "        'name': chunk_df['name'],  # Include the 'name' column\n",
        "        'reviews.text': chunk_df['reviews.text'],\n",
        "        'category': classified_chunk['category']\n",
        "    })\n",
        "\n",
        "    # Save results (append after first chunk)\n",
        "    chunk_results.to_csv('new_classified_reviews.csv',\n",
        "                         mode='a' if i > 0 else 'w',\n",
        "                         header=i == 0,\n",
        "                         index=False)\n",
        "\n",
        "    print(f\"Finished chunk {i+1}\")\n",
        "\n",
        "    # Clean up GPU memory\n",
        "    if torch.cuda.is_available():\n",
        "        torch.cuda.empty_cache()\n",
        "\n",
        "print(\"\\nAll done! Check 'new_classified_reviews.csv' for results\")\n",
        "\n",
        "# Show some examples\n",
        "print(\"\\nHere are some example results:\")\n",
        "try:\n",
        "    examples = pd.read_csv('new_classified_reviews.csv', nrows=3)\n",
        "    for i, row in examples.iterrows():\n",
        "        print(f\"\\nProduct: {row['name']}\")\n",
        "        print(f\"Review {i+1}:\")\n",
        "        print(f\"Text: {row['reviews.text'][:100]}...\")  # First 100 characters\n",
        "        print(f\"Category: {row['category']}\")\n",
        "except Exception as e:\n",
        "    print(f\"Couldn't read the results file: {e}\")\n",
        "\n"
      ],
      "metadata": {
        "colab": {
          "base_uri": "https://localhost:8080/",
          "height": 859,
          "referenced_widgets": [
            "28359ac97e9345f28c91b365d1b80f42",
            "ae205e53eaa74c49988fc1a635e76b96",
            "6b6b143e3f1748d899519a3ffb3d10f3",
            "79dbcb1f6cd449339d1ee5819df0ee22",
            "2fbadba30d3f453bb5cb224e1d5db1be",
            "1cf99359abd14377848b4d081dd4a52d",
            "f08942b71be5422e9e80dd11445f5bb6",
            "81c684abfd434bfcb77d7443b4744382",
            "02c10fba9e3245dfa13c33dceb1b5350",
            "69b58ba7ac8d4753905e8b769ca1a3d1",
            "76ebc4fbb6c840948df2e66c2749be97",
            "41023790df774fe681bd07493292d0ed",
            "490c64b0eaa8427bb047ad77095cd9ed",
            "e76a021c6a51457d822d1c4f7a938cf6",
            "97510b6cfa7f414a84ca4dead00c4b90",
            "1fa08a836d9c494e9f391fa5cdc0afc0",
            "ff35026ac8884fe9b8bbe7e85fa8ad3f",
            "b1c23e4bff174d8d859447cc3793cd4b",
            "3c3fd2b666634a54a9000d97d76a79cd",
            "8a366162e98847b88ec298d1b1790392",
            "30de5e5556b8428d9e87c35b0e3e40e8",
            "371e4918b2714d389a11aa98b0074c34",
            "c4f819584c2d43d1b7efec134dcb9302",
            "0be6c0acb86c4a05af50fcfe25132054",
            "9e2325a018e3418dac5be22c9cebe954",
            "d01a19da09ae4512be07081e25ebe497",
            "2e3493ece3a0429c9a6f288307e430b8",
            "552825f53b974cbc9d9f3c76e900d3d3",
            "bcf01e724f7a4da0b5e0bcf621248a39",
            "a789665ef072417e9729bab80a92d33e",
            "de36fdc013eb4869a5bc723167f1c37e",
            "b59de3e9b604480c946b28c7f5c81e45",
            "3fe9908343e24146970b5a4ea3ff1cb9",
            "6f4c9b3cd2e048a099ef4a23351f5301",
            "c39e973b9b1d4591949e87e64fc9dd98",
            "ddba7231307d4b7c954fa91f8fc7ff7b",
            "7f590b25693e43aa96f8d63ec7a12e85",
            "1c7ebf4b412b4dd7b21c131f7ae5790e",
            "963e931c365f4a13a9c5f1e809531c3b",
            "5ece6b74a98f457bb1cce5e010e9fb47",
            "9c5cd4b1110d445fa2781017d035b453",
            "4bf18d523dc44e768a8eb7089bc1c58b",
            "76b2b01b89f34d089a5a412144dd7996",
            "bde5d12cf5ae418587311efd519a7a5e"
          ]
        },
        "id": "YxaBteuRHYIp",
        "outputId": "2bdeb6b2-7436-4bdb-94dc-bc101b591f00"
      },
      "execution_count": null,
      "outputs": [
        {
          "output_type": "stream",
          "name": "stdout",
          "text": [
            "Checking if we have a GPU...\n",
            "Yes! Found GPU!\n",
            "Setting up the AI...\n"
          ]
        },
        {
          "output_type": "stream",
          "name": "stderr",
          "text": [
            "/usr/local/lib/python3.10/dist-packages/transformers/convert_slow_tokenizer.py:561: UserWarning:\n",
            "\n",
            "The sentencepiece tokenizer that you are converting to a fast tokenizer uses the byte fallback option which is not implemented in the fast tokenizers. In practice this means that the fast version of the tokenizer can produce unknown tokens whereas the sentencepiece version would have converted these unknown tokens into a sequence of byte tokens matching the original piece of text.\n",
            "\n"
          ]
        },
        {
          "output_type": "stream",
          "name": "stdout",
          "text": [
            "\n",
            "Starting to process reviews...\n",
            "\n",
            "Processing chunk 1\n"
          ]
        },
        {
          "output_type": "display_data",
          "data": {
            "text/plain": [
              "Classifying chunk 1:   0%|          | 0/5000 [00:00<?, ? examples/s]"
            ],
            "application/vnd.jupyter.widget-view+json": {
              "version_major": 2,
              "version_minor": 0,
              "model_id": "28359ac97e9345f28c91b365d1b80f42"
            }
          },
          "metadata": {}
        },
        {
          "output_type": "stream",
          "name": "stdout",
          "text": [
            "Finished chunk 1\n",
            "\n",
            "Processing chunk 2\n"
          ]
        },
        {
          "output_type": "display_data",
          "data": {
            "text/plain": [
              "Classifying chunk 2:   0%|          | 0/5000 [00:00<?, ? examples/s]"
            ],
            "application/vnd.jupyter.widget-view+json": {
              "version_major": 2,
              "version_minor": 0,
              "model_id": "41023790df774fe681bd07493292d0ed"
            }
          },
          "metadata": {}
        },
        {
          "output_type": "stream",
          "name": "stdout",
          "text": [
            "Finished chunk 2\n",
            "\n",
            "Processing chunk 3\n"
          ]
        },
        {
          "output_type": "display_data",
          "data": {
            "text/plain": [
              "Classifying chunk 3:   0%|          | 0/5000 [00:00<?, ? examples/s]"
            ],
            "application/vnd.jupyter.widget-view+json": {
              "version_major": 2,
              "version_minor": 0,
              "model_id": "c4f819584c2d43d1b7efec134dcb9302"
            }
          },
          "metadata": {}
        },
        {
          "output_type": "stream",
          "name": "stdout",
          "text": [
            "Finished chunk 3\n",
            "\n",
            "Processing chunk 4\n"
          ]
        },
        {
          "output_type": "display_data",
          "data": {
            "text/plain": [
              "Classifying chunk 4:   0%|          | 0/3750 [00:00<?, ? examples/s]"
            ],
            "application/vnd.jupyter.widget-view+json": {
              "version_major": 2,
              "version_minor": 0,
              "model_id": "6f4c9b3cd2e048a099ef4a23351f5301"
            }
          },
          "metadata": {}
        },
        {
          "output_type": "stream",
          "name": "stdout",
          "text": [
            "Finished chunk 4\n",
            "\n",
            "All done! Check 'new_classified_reviews.csv' for results\n",
            "\n",
            "Here are some example results:\n",
            "\n",
            "Product: All-New Fire HD 8 Tablet, 8 HD Display, Wi-Fi, 16 GB - Includes Special Offers, Magenta\n",
            "Review 1:\n",
            "Text: This product so far has not disappointed. My children love to use it and I like the ability to monit...\n",
            "Category: Creative and Productivity Tools\n",
            "\n",
            "Product: All-New Fire HD 8 Tablet, 8 HD Display, Wi-Fi, 16 GB - Includes Special Offers, Magenta\n",
            "Review 2:\n",
            "Text: great for beginner or experienced person. Bought as a gift and she loves it...\n",
            "Category: Entertainment and Immersion\n",
            "\n",
            "Product: All-New Fire HD 8 Tablet, 8 HD Display, Wi-Fi, 16 GB - Includes Special Offers, Magenta\n",
            "Review 3:\n",
            "Text: Inexpensive tablet for him to use and learn on, step up from the NABI. He was thrilled with it, lear...\n",
            "Category: Entertainment and Immersion\n"
          ]
        }
      ]
    },
    {
      "cell_type": "markdown",
      "source": [
        "Adding Topic Modelling to align with actual content of thr reviews"
      ],
      "metadata": {
        "id": "MBAX4BAFB2N7"
      }
    },
    {
      "cell_type": "code",
      "source": [
        "#Add confidence scores to the output for better evaluation of classifications.\n",
        "def classify_text_with_confidence(examples):\n",
        "    try:\n",
        "        outputs = classifier(\n",
        "            examples[\"reviews.text\"],\n",
        "            candidate_labels=categories,\n",
        "            batch_size=BATCH_SIZE\n",
        "        )\n",
        "        return {\n",
        "            \"category\": [output[\"labels\"][0] for output in outputs],\n",
        "            \"confidence\": [output[\"scores\"][0] for output in outputs]\n",
        "        }\n",
        "    except Exception as e:\n",
        "        print(f\"Error processing batch: {str(e)}\")\n",
        "        return {\n",
        "            \"category\": [\"Error\"] * len(examples[\"reviews.text\"]),\n",
        "            \"confidence\": [0] * len(examples[\"reviews.text\"])\n",
        "        }\n"
      ],
      "metadata": {
        "id": "k1Jw222PByFR"
      },
      "execution_count": 132,
      "outputs": []
    },
    {
      "cell_type": "code",
      "source": [
        "classified_chunk = chunk_dataset.map(\n",
        "    classify_text_with_confidence,\n",
        "    batched=True,\n",
        "    batch_size=BATCH_SIZE,\n",
        "    remove_columns=[],  # Avoid removing any columns to retain \"confidence\"\n",
        "    desc=f\"Classifying chunk {i+1}\"\n",
        ")\n"
      ],
      "metadata": {
        "colab": {
          "base_uri": "https://localhost:8080/",
          "height": 49,
          "referenced_widgets": [
            "3ff43718448f4575b54cc075664f9c2b",
            "c9afbea85d3040088a143b27b394911e",
            "8fc05a86e70d40b9bf7ba673ce2791ef",
            "33670c85bfce4a518b0347f664d14d1d",
            "b25f2d423ce648179320004239d947ee",
            "f4eb171f56da4c45860ddababa42f0fc",
            "ce060fae7de04c738cf5a25cb330fc1d",
            "a4ab3f860f5b4caaaa9740aa20bd861c",
            "9d2d9e386a8b4b9081d6e2b07f232f86",
            "b7f66ebd71b24b438d24b8cd4f6859f9",
            "0b3f5d69fa13496db48d6d1020791107"
          ]
        },
        "id": "Z7sNjMnZCJZn",
        "outputId": "1d6a5868-847b-431a-f1b5-3a72e29e7efe"
      },
      "execution_count": 133,
      "outputs": [
        {
          "output_type": "display_data",
          "data": {
            "text/plain": [
              "Classifying chunk 6:   0%|          | 0/3750 [00:00<?, ? examples/s]"
            ],
            "application/vnd.jupyter.widget-view+json": {
              "version_major": 2,
              "version_minor": 0,
              "model_id": "3ff43718448f4575b54cc075664f9c2b"
            }
          },
          "metadata": {}
        }
      ]
    },
    {
      "cell_type": "code",
      "source": [
        "#Confidence is Saved when converting the chunk results back to a DataFrame:\n",
        "chunk_results = pd.DataFrame({\n",
        "    'name': chunk_df['name'],  # Include product name\n",
        "    'reviews.text': chunk_df['reviews.text'],  # Include review text\n",
        "    'category': classified_chunk['category'],  # Include assigned category\n",
        "    'confidence': classified_chunk['confidence'],  # Include confidence scores\n",
        "})\n"
      ],
      "metadata": {
        "id": "qY34wFdYCJcs"
      },
      "execution_count": 134,
      "outputs": []
    },
    {
      "cell_type": "code",
      "source": [
        "print(chunk_results.head())\n"
      ],
      "metadata": {
        "colab": {
          "base_uri": "https://localhost:8080/"
        },
        "id": "nLYOG5ouCJfW",
        "outputId": "3b8495ea-b953-47d5-a3e7-1fd9cb963ca7"
      },
      "execution_count": 135,
      "outputs": [
        {
          "output_type": "stream",
          "name": "stdout",
          "text": [
            "                                                    name  \\\n",
            "15000  AmazonBasics AAA Performance Alkaline Batterie...   \n",
            "15001  AmazonBasics AAA Performance Alkaline Batterie...   \n",
            "15002  AmazonBasics AAA Performance Alkaline Batterie...   \n",
            "15003  AmazonBasics AAA Performance Alkaline Batterie...   \n",
            "15004  AmazonBasics AAA Performance Alkaline Batterie...   \n",
            "\n",
            "                                            reviews.text  \\\n",
            "15000                     Excellent value for the money.   \n",
            "15001  Excellent value, and the batteries last just a...   \n",
            "15002  Excellent value, still going strong in all the...   \n",
            "15003                                   Excellent value!   \n",
            "15004                                   Excellent value.   \n",
            "\n",
            "                               category  confidence  \n",
            "15000   Creative and Productivity Tools    0.231893  \n",
            "15001  Power and Connectivity Solutions    0.476759  \n",
            "15002   Creative and Productivity Tools    0.260661  \n",
            "15003   Creative and Productivity Tools    0.261789  \n",
            "15004   Creative and Productivity Tools    0.272557  \n"
          ]
        }
      ]
    },
    {
      "cell_type": "code",
      "source": [
        "import matplotlib.pyplot as plt\n",
        "\n",
        "# Load the results\n",
        "results = pd.read_csv('new_classified_reviews.csv')\n",
        "\n",
        "# Plot category distribution\n",
        "category_counts = results['category'].value_counts()\n",
        "category_counts.plot(kind='bar', figsize=(10, 6), color='skyblue')\n",
        "plt.title('Distribution of Reviews Across Categories')\n",
        "plt.xlabel('Category')\n",
        "plt.ylabel('Number of Reviews')\n",
        "plt.xticks(rotation=45)\n",
        "plt.show()\n"
      ],
      "metadata": {
        "colab": {
          "base_uri": "https://localhost:8080/",
          "height": 750
        },
        "id": "b1jwJ_2TDEad",
        "outputId": "7f5a3888-f80f-408e-b23a-63fd3a16410d"
      },
      "execution_count": 136,
      "outputs": [
        {
          "output_type": "display_data",
          "data": {
            "text/plain": [
              "<Figure size 1000x600 with 1 Axes>"
            ],
            "image/png": "[encoded data removed]"
          },
          "metadata": {}
        }
      ]
    },
    {
      "cell_type": "code",
      "source": [
        "\n",
        "results = chunk_results\n",
        "low_confidence_reviews = results[results['confidence'] < 0.5] # Now 'results' has the 'confidence' column\n",
        "print(\"Low-confidence reviews:\")\n",
        "print(low_confidence_reviews[['reviews.text', 'category', 'confidence']].head())\n"
      ],
      "metadata": {
        "colab": {
          "base_uri": "https://localhost:8080/"
        },
        "id": "afmgzwrwCJjw",
        "outputId": "753eabc0-2ffe-45cc-d01e-3f354a11a33d"
      },
      "execution_count": 139,
      "outputs": [
        {
          "output_type": "stream",
          "name": "stdout",
          "text": [
            "Low-confidence reviews:\n",
            "                                            reviews.text  \\\n",
            "15000                     Excellent value for the money.   \n",
            "15001  Excellent value, and the batteries last just a...   \n",
            "15002  Excellent value, still going strong in all the...   \n",
            "15003                                   Excellent value!   \n",
            "15004                                   Excellent value.   \n",
            "\n",
            "                               category  confidence  \n",
            "15000   Creative and Productivity Tools    0.231893  \n",
            "15001  Power and Connectivity Solutions    0.476759  \n",
            "15002   Creative and Productivity Tools    0.260661  \n",
            "15003   Creative and Productivity Tools    0.261789  \n",
            "15004   Creative and Productivity Tools    0.272557  \n"
          ]
        }
      ]
    },
    {
      "cell_type": "code",
      "source": [
        "# Filter reviews for \"Entertainment and Immersion\"\n",
        "entertainment_reviews = results[results['category'] == 'Entertainment and Immersion']\n",
        "print(\"Sample Entertainment Reviews:\")\n",
        "print(entertainment_reviews['reviews.text'].head(10))\n"
      ],
      "metadata": {
        "colab": {
          "base_uri": "https://localhost:8080/"
        },
        "id": "o_VbDWhsBybf",
        "outputId": "be3a47b2-a7cc-420d-afe8-e45e8843fa55"
      },
      "execution_count": 140,
      "outputs": [
        {
          "output_type": "stream",
          "name": "stdout",
          "text": [
            "Sample Entertainment Reviews:\n",
            "15017                                Exelent\n",
            "15018    Extremely happy with this purchase!\n",
            "15022                             Fanastic!!\n",
            "15023                   Fantastic batteries!\n",
            "15036                        Feel the power!\n",
            "15040                             First rate\n",
            "15163                        good batteriess\n",
            "15185                              good buy.\n",
            "15224                       Good experience.\n",
            "15225               good for the cheap price\n",
            "Name: reviews.text, dtype: object\n"
          ]
        }
      ]
    },
    {
      "cell_type": "code",
      "source": [
        "# Filter short or generic reviews in \"Entertainment and Immersion\"\n",
        "short_reviews = entertainment_reviews[entertainment_reviews['reviews.text'].str.len() < 20]\n",
        "print(\"Short Reviews in 'Entertainment and Immersion':\")\n",
        "print(short_reviews[['reviews.text', 'category']].head(10))\n"
      ],
      "metadata": {
        "colab": {
          "base_uri": "https://localhost:8080/"
        },
        "id": "xvSO0WQFCdLJ",
        "outputId": "8e2f1c0a-f247-499e-8859-411876426b2e"
      },
      "execution_count": 141,
      "outputs": [
        {
          "output_type": "stream",
          "name": "stdout",
          "text": [
            "Short Reviews in 'Entertainment and Immersion':\n",
            "             reviews.text                     category\n",
            "15017             Exelent  Entertainment and Immersion\n",
            "15022          Fanastic!!  Entertainment and Immersion\n",
            "15036     Feel the power!  Entertainment and Immersion\n",
            "15040          First rate  Entertainment and Immersion\n",
            "15163     good batteriess  Entertainment and Immersion\n",
            "15185           good buy.  Entertainment and Immersion\n",
            "15224    Good experience.  Entertainment and Immersion\n",
            "15226  Good for the money  Entertainment and Immersion\n",
            "15227  good for the price  Entertainment and Immersion\n",
            "15228  good for the price  Entertainment and Immersion\n"
          ]
        }
      ]
    },
    {
      "cell_type": "code",
      "source": [
        "# Filter out low-confidence reviews\n",
        "filtered_results = results[results['confidence'] >= 0.5]\n",
        "\n",
        "# Save the filtered results\n",
        "filtered_results.to_csv('filtered_classified_reviews.csv', index=False)\n",
        "\n",
        "# Check distribution after filtering\n",
        "print(\"Distribution of reviews after filtering:\")\n",
        "print(filtered_results['category'].value_counts())\n"
      ],
      "metadata": {
        "colab": {
          "base_uri": "https://localhost:8080/"
        },
        "id": "79EBToALCd47",
        "outputId": "b8773b01-901c-4005-b2ca-17dc6892f90c"
      },
      "execution_count": 143,
      "outputs": [
        {
          "output_type": "stream",
          "name": "stdout",
          "text": [
            "Distribution of reviews after filtering:\n",
            "category\n",
            "Daily Convenience                         161\n",
            "Power and Connectivity Solutions          127\n",
            "Entertainment and Immersion                83\n",
            "Health and Wellness                        53\n",
            "Creative and Productivity Tools            47\n",
            "Eco-Friendly and Sustainable Solutions     39\n",
            "Name: count, dtype: int64\n"
          ]
        }
      ]
    },
    {
      "cell_type": "code",
      "source": [
        "# Load filtered-out reviews\n",
        "filtered_out_reviews = results[results['confidence'] < 0.5]\n",
        "\n",
        "# Sample 10 filtered-out reviews for manual inspection\n",
        "print(\"Sample of filtered-out reviews:\")\n",
        "print(filtered_out_reviews[['reviews.text', 'confidence']].sample(10))\n"
      ],
      "metadata": {
        "colab": {
          "base_uri": "https://localhost:8080/"
        },
        "id": "ZKgsItKcByfm",
        "outputId": "c21309a5-9785-4839-ca12-6c906137d56d"
      },
      "execution_count": 144,
      "outputs": [
        {
          "output_type": "stream",
          "name": "stdout",
          "text": [
            "Sample of filtered-out reviews:\n",
            "                                            reviews.text  confidence\n",
            "15659                           Great deal, saved money!    0.268486\n",
            "17419  great value and seem to last just as long as n...    0.247644\n",
            "17447                                            It work    0.413997\n",
            "16499  Put them in my TV clicker and they work. Seem ...    0.274282\n",
            "17131                  works as well as the other brands    0.215009\n",
            "16203  Just as good as the store bought batteries BUT...    0.358059\n",
            "16806                                          They work    0.295039\n",
            "15804            Great price point and reviews for item.    0.255480\n",
            "15404                                        good value.    0.308881\n",
            "16025                                       Great value!    0.257439\n"
          ]
        }
      ]
    },
    {
      "cell_type": "code",
      "source": [],
      "metadata": {
        "id": "fUJcW-tlFcTb"
      },
      "execution_count": null,
      "outputs": []
    },
    {
      "cell_type": "code",
      "source": [
        "# Enrich input text with product names for better context\n",
        "results['input_text'] = results['reviews.text'] + \" Product: \" + results['name']\n",
        "\n",
        "# Re-run classification using enriched input with the 6 categories\n",
        "outputs = classifier(\n",
        "    results['input_text'].tolist(),\n",
        "    candidate_labels=[\n",
        "        \"Daily Convenience\",\n",
        "        \"Creative and Productivity Tools\",\n",
        "        \"Health and Wellness\",\n",
        "        \"Entertainment and Immersion\",\n",
        "        \"Power and Connectivity Solutions\",\n",
        "        \"Eco-Friendly and Sustainable Solutions\"\n",
        "    ],\n",
        "    batch_size=BATCH_SIZE\n",
        ")\n",
        "\n",
        "# Update results with new categories and confidence scores\n",
        "results['category'] = [output['labels'][0] for output in outputs]\n",
        "results['confidence'] = [output['scores'][0] for output in outputs]\n",
        "\n",
        "# Save the updated results\n",
        "results.to_csv('reprocessed_6_categories_reviews.csv', index=False)\n",
        "\n",
        "# Check updated distribution\n",
        "print(\"Updated category distribution:\")\n",
        "print(results['category'].value_counts())\n",
        "\n"
      ],
      "metadata": {
        "id": "gdt0aAVEFcYr"
      },
      "execution_count": null,
      "outputs": []
    },
    {
      "cell_type": "code",
      "source": [
        "# Assign \"Unclassified\" for reviews with confidence below 0.4\n",
        "results['final_category'] = results.apply(\n",
        "    lambda row: row['category'] if row['confidence'] >= 0.4 else 'Unclassified',\n",
        "    axis=1\n",
        ")\n",
        "\n",
        "# Save results with fallback category\n",
        "results.to_csv('final_6_categories_reviews.csv', index=False)\n",
        "\n",
        "# Check distribution including fallback\n",
        "print(\"Final category distribution:\")\n",
        "print(results['final_category'].value_counts())\n"
      ],
      "metadata": {
        "id": "MzN_7n8ZGgs3"
      },
      "execution_count": null,
      "outputs": []
    },
    {
      "cell_type": "code",
      "source": [
        "# Define keyword-based rules for ambiguous cases\n",
        "rules = {\n",
        "    \"Power and Connectivity Solutions\": [\"battery\", \"charger\", \"cable\", \"plug\"],\n",
        "    \"Entertainment and Immersion\": [\"game\", \"movie\", \"stream\", \"screen\", \"music\"],\n",
        "    \"Health and Wellness\": [\"vitamin\", \"exercise\", \"nutrition\", \"wellness\", \"yoga\"],\n",
        "    \"Daily Convenience\": [\"kitchen\", \"home\", \"daily\", \"clean\", \"cook\"],\n",
        "    \"Creative and Productivity Tools\": [\"office\", \"tool\", \"work\", \"project\", \"creative\"],\n",
        "    \"Eco-Friendly and Sustainable Solutions\": [\"eco\", \"sustainable\", \"green\", \"environment\"]\n",
        "}\n",
        "\n",
        "# Apply rules for low-confidence reviews\n",
        "def assign_category_based_on_rules(text):\n",
        "    for category, keywords in rules.items():\n",
        "        if any(keyword in text.lower() for keyword in keywords):\n",
        "            return category\n",
        "    return \"Unclassified\"\n",
        "\n",
        "# Apply rules to low-confidence reviews\n",
        "results['final_category'] = results.apply(\n",
        "    lambda row: assign_category_based_on_rules(row['reviews.text'])\n",
        "    if row['confidence'] < 0.4 else row['category'],\n",
        "    axis=1\n",
        ")\n",
        "\n",
        "# Save final results\n",
        "results.to_csv('rule_based_6_categories_reviews.csv', index=False)\n",
        "\n",
        "# Check final distribution\n",
        "print(\"Category distribution after applying rules:\")\n",
        "print(results['final_category'].value_counts())\n",
        "\n"
      ],
      "metadata": {
        "id": "VyFrDrCfFcc4"
      },
      "execution_count": null,
      "outputs": []
    },
    {
      "cell_type": "code",
      "source": [
        "# Plot final distribution of categories\n",
        "import matplotlib.pyplot as plt\n",
        "\n",
        "results['final_category'].value_counts().plot(kind='bar', figsize=(10, 6), color='skyblue')\n",
        "plt.title('Final Distribution of Reviews Across 6 Categories')\n",
        "plt.xlabel('Category')\n",
        "plt.ylabel('Number of Reviews')\n",
        "plt.xticks(rotation=45)\n",
        "plt.show()\n"
      ],
      "metadata": {
        "id": "VIE56NzfFciG"
      },
      "execution_count": null,
      "outputs": []
    },
    {
      "cell_type": "code",
      "source": [
        "# Inspect low-confidence reviews assigned by rules\n",
        "low_confidence_reviews = results[results['confidence'] < 0.4]\n",
        "print(\"Low-confidence reviews reassigned by rules:\")\n",
        "print(low_confidence_reviews[['reviews.text', 'final_category']].head())\n"
      ],
      "metadata": {
        "id": "njr-qgEvFbhd"
      },
      "execution_count": null,
      "outputs": []
    },
    {
      "cell_type": "code",
      "source": [],
      "metadata": {
        "id": "YlTXZqtzFbkX"
      },
      "execution_count": null,
      "outputs": []
    },
    {
      "cell_type": "code",
      "source": [],
      "metadata": {
        "id": "oZT6-xd4FbnM"
      },
      "execution_count": null,
      "outputs": []
    },
    {
      "cell_type": "code",
      "source": [],
      "metadata": {
        "id": "iTcaGNxQFbwW"
      },
      "execution_count": null,
      "outputs": []
    },
    {
      "cell_type": "markdown",
      "source": [],
      "metadata": {
        "id": "6l7YGH2LByxc"
      }
    }
  ]
}
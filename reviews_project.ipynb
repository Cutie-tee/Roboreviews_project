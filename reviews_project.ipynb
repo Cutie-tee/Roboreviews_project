{
  "nbformat": 4,
  "nbformat_minor": 0,
  "metadata": {
    "colab": {
      "provenance": [],
      "gpuType": "T4",
      "authorship_tag": "ABX9TyNNcgjgna66DHT3c4fOs4KK",
      "include_colab_link": true
    },
    "kernelspec": {
      "name": "python3",
      "display_name": "Python 3"
    },
    "language_info": {
      "name": "python"
    },
    "accelerator": "GPU",
    "widgets": {
      "application/vnd.jupyter.widget-state+json": {
        "8a5bec4678174801b03bb0b1587db171": {
          "model_module": "@jupyter-widgets/controls",
          "model_name": "HBoxModel",
          "model_module_version": "1.5.0",
          "state": {
            "_dom_classes": [],
            "_model_module": "@jupyter-widgets/controls",
            "_model_module_version": "1.5.0",
            "_model_name": "HBoxModel",
            "_view_count": null,
            "_view_module": "@jupyter-widgets/controls",
            "_view_module_version": "1.5.0",
            "_view_name": "HBoxView",
            "box_style": "",
            "children": [
              "IPY_MODEL_edf2c2250d40421fb1755083b2c03b5c",
              "IPY_MODEL_2205688a991d4b30ae613e360546086e",
              "IPY_MODEL_ad6830538d8041be8ba48505bc06e199"
            ],
            "layout": "IPY_MODEL_c788be84596c49139b32bf7ebf9158fa"
          }
        },
        "edf2c2250d40421fb1755083b2c03b5c": {
          "model_module": "@jupyter-widgets/controls",
          "model_name": "HTMLModel",
          "model_module_version": "1.5.0",
          "state": {
            "_dom_classes": [],
            "_model_module": "@jupyter-widgets/controls",
            "_model_module_version": "1.5.0",
            "_model_name": "HTMLModel",
            "_view_count": null,
            "_view_module": "@jupyter-widgets/controls",
            "_view_module_version": "1.5.0",
            "_view_name": "HTMLView",
            "description": "",
            "description_tooltip": null,
            "layout": "IPY_MODEL_a882342651014747b9bc460aeaed0f0a",
            "placeholder": "​",
            "style": "IPY_MODEL_94562a5a0cb8420e8e10e413bb6aef5f",
            "value": "Map: 100%"
          }
        },
        "2205688a991d4b30ae613e360546086e": {
          "model_module": "@jupyter-widgets/controls",
          "model_name": "FloatProgressModel",
          "model_module_version": "1.5.0",
          "state": {
            "_dom_classes": [],
            "_model_module": "@jupyter-widgets/controls",
            "_model_module_version": "1.5.0",
            "_model_name": "FloatProgressModel",
            "_view_count": null,
            "_view_module": "@jupyter-widgets/controls",
            "_view_module_version": "1.5.0",
            "_view_name": "ProgressView",
            "bar_style": "success",
            "description": "",
            "description_tooltip": null,
            "layout": "IPY_MODEL_a8c88d2cd4e44f66843f1b45bdf867f7",
            "max": 53853,
            "min": 0,
            "orientation": "horizontal",
            "style": "IPY_MODEL_5ae4ffefc1b54b74ac739af29170f813",
            "value": 53853
          }
        },
        "ad6830538d8041be8ba48505bc06e199": {
          "model_module": "@jupyter-widgets/controls",
          "model_name": "HTMLModel",
          "model_module_version": "1.5.0",
          "state": {
            "_dom_classes": [],
            "_model_module": "@jupyter-widgets/controls",
            "_model_module_version": "1.5.0",
            "_model_name": "HTMLModel",
            "_view_count": null,
            "_view_module": "@jupyter-widgets/controls",
            "_view_module_version": "1.5.0",
            "_view_name": "HTMLView",
            "description": "",
            "description_tooltip": null,
            "layout": "IPY_MODEL_9da6705a21414f7b8eeb687c4e730d63",
            "placeholder": "​",
            "style": "IPY_MODEL_3566b52cee404202972941cae45c29c2",
            "value": " 53853/53853 [00:18&lt;00:00, 3508.79 examples/s]"
          }
        },
        "c788be84596c49139b32bf7ebf9158fa": {
          "model_module": "@jupyter-widgets/base",
          "model_name": "LayoutModel",
          "model_module_version": "1.2.0",
          "state": {
            "_model_module": "@jupyter-widgets/base",
            "_model_module_version": "1.2.0",
            "_model_name": "LayoutModel",
            "_view_count": null,
            "_view_module": "@jupyter-widgets/base",
            "_view_module_version": "1.2.0",
            "_view_name": "LayoutView",
            "align_content": null,
            "align_items": null,
            "align_self": null,
            "border": null,
            "bottom": null,
            "display": null,
            "flex": null,
            "flex_flow": null,
            "grid_area": null,
            "grid_auto_columns": null,
            "grid_auto_flow": null,
            "grid_auto_rows": null,
            "grid_column": null,
            "grid_gap": null,
            "grid_row": null,
            "grid_template_areas": null,
            "grid_template_columns": null,
            "grid_template_rows": null,
            "height": null,
            "justify_content": null,
            "justify_items": null,
            "left": null,
            "margin": null,
            "max_height": null,
            "max_width": null,
            "min_height": null,
            "min_width": null,
            "object_fit": null,
            "object_position": null,
            "order": null,
            "overflow": null,
            "overflow_x": null,
            "overflow_y": null,
            "padding": null,
            "right": null,
            "top": null,
            "visibility": null,
            "width": null
          }
        },
        "a882342651014747b9bc460aeaed0f0a": {
          "model_module": "@jupyter-widgets/base",
          "model_name": "LayoutModel",
          "model_module_version": "1.2.0",
          "state": {
            "_model_module": "@jupyter-widgets/base",
            "_model_module_version": "1.2.0",
            "_model_name": "LayoutModel",
            "_view_count": null,
            "_view_module": "@jupyter-widgets/base",
            "_view_module_version": "1.2.0",
            "_view_name": "LayoutView",
            "align_content": null,
            "align_items": null,
            "align_self": null,
            "border": null,
            "bottom": null,
            "display": null,
            "flex": null,
            "flex_flow": null,
            "grid_area": null,
            "grid_auto_columns": null,
            "grid_auto_flow": null,
            "grid_auto_rows": null,
            "grid_column": null,
            "grid_gap": null,
            "grid_row": null,
            "grid_template_areas": null,
            "grid_template_columns": null,
            "grid_template_rows": null,
            "height": null,
            "justify_content": null,
            "justify_items": null,
            "left": null,
            "margin": null,
            "max_height": null,
            "max_width": null,
            "min_height": null,
            "min_width": null,
            "object_fit": null,
            "object_position": null,
            "order": null,
            "overflow": null,
            "overflow_x": null,
            "overflow_y": null,
            "padding": null,
            "right": null,
            "top": null,
            "visibility": null,
            "width": null
          }
        },
        "94562a5a0cb8420e8e10e413bb6aef5f": {
          "model_module": "@jupyter-widgets/controls",
          "model_name": "DescriptionStyleModel",
          "model_module_version": "1.5.0",
          "state": {
            "_model_module": "@jupyter-widgets/controls",
            "_model_module_version": "1.5.0",
            "_model_name": "DescriptionStyleModel",
            "_view_count": null,
            "_view_module": "@jupyter-widgets/base",
            "_view_module_version": "1.2.0",
            "_view_name": "StyleView",
            "description_width": ""
          }
        },
        "a8c88d2cd4e44f66843f1b45bdf867f7": {
          "model_module": "@jupyter-widgets/base",
          "model_name": "LayoutModel",
          "model_module_version": "1.2.0",
          "state": {
            "_model_module": "@jupyter-widgets/base",
            "_model_module_version": "1.2.0",
            "_model_name": "LayoutModel",
            "_view_count": null,
            "_view_module": "@jupyter-widgets/base",
            "_view_module_version": "1.2.0",
            "_view_name": "LayoutView",
            "align_content": null,
            "align_items": null,
            "align_self": null,
            "border": null,
            "bottom": null,
            "display": null,
            "flex": null,
            "flex_flow": null,
            "grid_area": null,
            "grid_auto_columns": null,
            "grid_auto_flow": null,
            "grid_auto_rows": null,
            "grid_column": null,
            "grid_gap": null,
            "grid_row": null,
            "grid_template_areas": null,
            "grid_template_columns": null,
            "grid_template_rows": null,
            "height": null,
            "justify_content": null,
            "justify_items": null,
            "left": null,
            "margin": null,
            "max_height": null,
            "max_width": null,
            "min_height": null,
            "min_width": null,
            "object_fit": null,
            "object_position": null,
            "order": null,
            "overflow": null,
            "overflow_x": null,
            "overflow_y": null,
            "padding": null,
            "right": null,
            "top": null,
            "visibility": null,
            "width": null
          }
        },
        "5ae4ffefc1b54b74ac739af29170f813": {
          "model_module": "@jupyter-widgets/controls",
          "model_name": "ProgressStyleModel",
          "model_module_version": "1.5.0",
          "state": {
            "_model_module": "@jupyter-widgets/controls",
            "_model_module_version": "1.5.0",
            "_model_name": "ProgressStyleModel",
            "_view_count": null,
            "_view_module": "@jupyter-widgets/base",
            "_view_module_version": "1.2.0",
            "_view_name": "StyleView",
            "bar_color": null,
            "description_width": ""
          }
        },
        "9da6705a21414f7b8eeb687c4e730d63": {
          "model_module": "@jupyter-widgets/base",
          "model_name": "LayoutModel",
          "model_module_version": "1.2.0",
          "state": {
            "_model_module": "@jupyter-widgets/base",
            "_model_module_version": "1.2.0",
            "_model_name": "LayoutModel",
            "_view_count": null,
            "_view_module": "@jupyter-widgets/base",
            "_view_module_version": "1.2.0",
            "_view_name": "LayoutView",
            "align_content": null,
            "align_items": null,
            "align_self": null,
            "border": null,
            "bottom": null,
            "display": null,
            "flex": null,
            "flex_flow": null,
            "grid_area": null,
            "grid_auto_columns": null,
            "grid_auto_flow": null,
            "grid_auto_rows": null,
            "grid_column": null,
            "grid_gap": null,
            "grid_row": null,
            "grid_template_areas": null,
            "grid_template_columns": null,
            "grid_template_rows": null,
            "height": null,
            "justify_content": null,
            "justify_items": null,
            "left": null,
            "margin": null,
            "max_height": null,
            "max_width": null,
            "min_height": null,
            "min_width": null,
            "object_fit": null,
            "object_position": null,
            "order": null,
            "overflow": null,
            "overflow_x": null,
            "overflow_y": null,
            "padding": null,
            "right": null,
            "top": null,
            "visibility": null,
            "width": null
          }
        },
        "3566b52cee404202972941cae45c29c2": {
          "model_module": "@jupyter-widgets/controls",
          "model_name": "DescriptionStyleModel",
          "model_module_version": "1.5.0",
          "state": {
            "_model_module": "@jupyter-widgets/controls",
            "_model_module_version": "1.5.0",
            "_model_name": "DescriptionStyleModel",
            "_view_count": null,
            "_view_module": "@jupyter-widgets/base",
            "_view_module_version": "1.2.0",
            "_view_name": "StyleView",
            "description_width": ""
          }
        },
        "c8280fef55194e5d891b298ac2ce8a14": {
          "model_module": "@jupyter-widgets/controls",
          "model_name": "HBoxModel",
          "model_module_version": "1.5.0",
          "state": {
            "_dom_classes": [],
            "_model_module": "@jupyter-widgets/controls",
            "_model_module_version": "1.5.0",
            "_model_name": "HBoxModel",
            "_view_count": null,
            "_view_module": "@jupyter-widgets/controls",
            "_view_module_version": "1.5.0",
            "_view_name": "HBoxView",
            "box_style": "",
            "children": [
              "IPY_MODEL_95c10196ba3c42b4a27c0ec67f3c32e9",
              "IPY_MODEL_8a38eb80a6f9413c978238430ac2484c",
              "IPY_MODEL_bc5d59799c794bac8646b766c054ec11"
            ],
            "layout": "IPY_MODEL_e5dc002d76b74eb1baa8d760a22e48a1"
          }
        },
        "95c10196ba3c42b4a27c0ec67f3c32e9": {
          "model_module": "@jupyter-widgets/controls",
          "model_name": "HTMLModel",
          "model_module_version": "1.5.0",
          "state": {
            "_dom_classes": [],
            "_model_module": "@jupyter-widgets/controls",
            "_model_module_version": "1.5.0",
            "_model_name": "HTMLModel",
            "_view_count": null,
            "_view_module": "@jupyter-widgets/controls",
            "_view_module_version": "1.5.0",
            "_view_name": "HTMLView",
            "description": "",
            "description_tooltip": null,
            "layout": "IPY_MODEL_b80d5ff0bb2c4ecabdd6db4c418c54a8",
            "placeholder": "​",
            "style": "IPY_MODEL_a22f4a3933f24f77ac1ccab1097f78fb",
            "value": "Map: 100%"
          }
        },
        "8a38eb80a6f9413c978238430ac2484c": {
          "model_module": "@jupyter-widgets/controls",
          "model_name": "FloatProgressModel",
          "model_module_version": "1.5.0",
          "state": {
            "_dom_classes": [],
            "_model_module": "@jupyter-widgets/controls",
            "_model_module_version": "1.5.0",
            "_model_name": "FloatProgressModel",
            "_view_count": null,
            "_view_module": "@jupyter-widgets/controls",
            "_view_module_version": "1.5.0",
            "_view_name": "ProgressView",
            "bar_style": "success",
            "description": "",
            "description_tooltip": null,
            "layout": "IPY_MODEL_051455e8dca34569b24b37d1fbe1fa82",
            "max": 13464,
            "min": 0,
            "orientation": "horizontal",
            "style": "IPY_MODEL_decd419291ea49c78aa2dd39cf7e966b",
            "value": 13464
          }
        },
        "bc5d59799c794bac8646b766c054ec11": {
          "model_module": "@jupyter-widgets/controls",
          "model_name": "HTMLModel",
          "model_module_version": "1.5.0",
          "state": {
            "_dom_classes": [],
            "_model_module": "@jupyter-widgets/controls",
            "_model_module_version": "1.5.0",
            "_model_name": "HTMLModel",
            "_view_count": null,
            "_view_module": "@jupyter-widgets/controls",
            "_view_module_version": "1.5.0",
            "_view_name": "HTMLView",
            "description": "",
            "description_tooltip": null,
            "layout": "IPY_MODEL_9d54678a1aeb44f494cd483523138bd4",
            "placeholder": "​",
            "style": "IPY_MODEL_3cce9bd4815b4e0b9aaaf896a546bf1c",
            "value": " 13464/13464 [00:04&lt;00:00, 3248.84 examples/s]"
          }
        },
        "e5dc002d76b74eb1baa8d760a22e48a1": {
          "model_module": "@jupyter-widgets/base",
          "model_name": "LayoutModel",
          "model_module_version": "1.2.0",
          "state": {
            "_model_module": "@jupyter-widgets/base",
            "_model_module_version": "1.2.0",
            "_model_name": "LayoutModel",
            "_view_count": null,
            "_view_module": "@jupyter-widgets/base",
            "_view_module_version": "1.2.0",
            "_view_name": "LayoutView",
            "align_content": null,
            "align_items": null,
            "align_self": null,
            "border": null,
            "bottom": null,
            "display": null,
            "flex": null,
            "flex_flow": null,
            "grid_area": null,
            "grid_auto_columns": null,
            "grid_auto_flow": null,
            "grid_auto_rows": null,
            "grid_column": null,
            "grid_gap": null,
            "grid_row": null,
            "grid_template_areas": null,
            "grid_template_columns": null,
            "grid_template_rows": null,
            "height": null,
            "justify_content": null,
            "justify_items": null,
            "left": null,
            "margin": null,
            "max_height": null,
            "max_width": null,
            "min_height": null,
            "min_width": null,
            "object_fit": null,
            "object_position": null,
            "order": null,
            "overflow": null,
            "overflow_x": null,
            "overflow_y": null,
            "padding": null,
            "right": null,
            "top": null,
            "visibility": null,
            "width": null
          }
        },
        "b80d5ff0bb2c4ecabdd6db4c418c54a8": {
          "model_module": "@jupyter-widgets/base",
          "model_name": "LayoutModel",
          "model_module_version": "1.2.0",
          "state": {
            "_model_module": "@jupyter-widgets/base",
            "_model_module_version": "1.2.0",
            "_model_name": "LayoutModel",
            "_view_count": null,
            "_view_module": "@jupyter-widgets/base",
            "_view_module_version": "1.2.0",
            "_view_name": "LayoutView",
            "align_content": null,
            "align_items": null,
            "align_self": null,
            "border": null,
            "bottom": null,
            "display": null,
            "flex": null,
            "flex_flow": null,
            "grid_area": null,
            "grid_auto_columns": null,
            "grid_auto_flow": null,
            "grid_auto_rows": null,
            "grid_column": null,
            "grid_gap": null,
            "grid_row": null,
            "grid_template_areas": null,
            "grid_template_columns": null,
            "grid_template_rows": null,
            "height": null,
            "justify_content": null,
            "justify_items": null,
            "left": null,
            "margin": null,
            "max_height": null,
            "max_width": null,
            "min_height": null,
            "min_width": null,
            "object_fit": null,
            "object_position": null,
            "order": null,
            "overflow": null,
            "overflow_x": null,
            "overflow_y": null,
            "padding": null,
            "right": null,
            "top": null,
            "visibility": null,
            "width": null
          }
        },
        "a22f4a3933f24f77ac1ccab1097f78fb": {
          "model_module": "@jupyter-widgets/controls",
          "model_name": "DescriptionStyleModel",
          "model_module_version": "1.5.0",
          "state": {
            "_model_module": "@jupyter-widgets/controls",
            "_model_module_version": "1.5.0",
            "_model_name": "DescriptionStyleModel",
            "_view_count": null,
            "_view_module": "@jupyter-widgets/base",
            "_view_module_version": "1.2.0",
            "_view_name": "StyleView",
            "description_width": ""
          }
        },
        "051455e8dca34569b24b37d1fbe1fa82": {
          "model_module": "@jupyter-widgets/base",
          "model_name": "LayoutModel",
          "model_module_version": "1.2.0",
          "state": {
            "_model_module": "@jupyter-widgets/base",
            "_model_module_version": "1.2.0",
            "_model_name": "LayoutModel",
            "_view_count": null,
            "_view_module": "@jupyter-widgets/base",
            "_view_module_version": "1.2.0",
            "_view_name": "LayoutView",
            "align_content": null,
            "align_items": null,
            "align_self": null,
            "border": null,
            "bottom": null,
            "display": null,
            "flex": null,
            "flex_flow": null,
            "grid_area": null,
            "grid_auto_columns": null,
            "grid_auto_flow": null,
            "grid_auto_rows": null,
            "grid_column": null,
            "grid_gap": null,
            "grid_row": null,
            "grid_template_areas": null,
            "grid_template_columns": null,
            "grid_template_rows": null,
            "height": null,
            "justify_content": null,
            "justify_items": null,
            "left": null,
            "margin": null,
            "max_height": null,
            "max_width": null,
            "min_height": null,
            "min_width": null,
            "object_fit": null,
            "object_position": null,
            "order": null,
            "overflow": null,
            "overflow_x": null,
            "overflow_y": null,
            "padding": null,
            "right": null,
            "top": null,
            "visibility": null,
            "width": null
          }
        },
        "decd419291ea49c78aa2dd39cf7e966b": {
          "model_module": "@jupyter-widgets/controls",
          "model_name": "ProgressStyleModel",
          "model_module_version": "1.5.0",
          "state": {
            "_model_module": "@jupyter-widgets/controls",
            "_model_module_version": "1.5.0",
            "_model_name": "ProgressStyleModel",
            "_view_count": null,
            "_view_module": "@jupyter-widgets/base",
            "_view_module_version": "1.2.0",
            "_view_name": "StyleView",
            "bar_color": null,
            "description_width": ""
          }
        },
        "9d54678a1aeb44f494cd483523138bd4": {
          "model_module": "@jupyter-widgets/base",
          "model_name": "LayoutModel",
          "model_module_version": "1.2.0",
          "state": {
            "_model_module": "@jupyter-widgets/base",
            "_model_module_version": "1.2.0",
            "_model_name": "LayoutModel",
            "_view_count": null,
            "_view_module": "@jupyter-widgets/base",
            "_view_module_version": "1.2.0",
            "_view_name": "LayoutView",
            "align_content": null,
            "align_items": null,
            "align_self": null,
            "border": null,
            "bottom": null,
            "display": null,
            "flex": null,
            "flex_flow": null,
            "grid_area": null,
            "grid_auto_columns": null,
            "grid_auto_flow": null,
            "grid_auto_rows": null,
            "grid_column": null,
            "grid_gap": null,
            "grid_row": null,
            "grid_template_areas": null,
            "grid_template_columns": null,
            "grid_template_rows": null,
            "height": null,
            "justify_content": null,
            "justify_items": null,
            "left": null,
            "margin": null,
            "max_height": null,
            "max_width": null,
            "min_height": null,
            "min_width": null,
            "object_fit": null,
            "object_position": null,
            "order": null,
            "overflow": null,
            "overflow_x": null,
            "overflow_y": null,
            "padding": null,
            "right": null,
            "top": null,
            "visibility": null,
            "width": null
          }
        },
        "3cce9bd4815b4e0b9aaaf896a546bf1c": {
          "model_module": "@jupyter-widgets/controls",
          "model_name": "DescriptionStyleModel",
          "model_module_version": "1.5.0",
          "state": {
            "_model_module": "@jupyter-widgets/controls",
            "_model_module_version": "1.5.0",
            "_model_name": "DescriptionStyleModel",
            "_view_count": null,
            "_view_module": "@jupyter-widgets/base",
            "_view_module_version": "1.2.0",
            "_view_name": "StyleView",
            "description_width": ""
          }
        }
      }
    }
  },
  "cells": [
    {
      "cell_type": "markdown",
      "metadata": {
        "id": "view-in-github",
        "colab_type": "text"
      },
      "source": [
        "<a href=\"https://colab.research.google.com/github/Cutie-tee/Roboreviews_project/blob/main/reviews_project.ipynb\" target=\"_parent\"><img src=\"https://colab.research.google.com/assets/colab-badge.svg\" alt=\"Open In Colab\"/></a>"
      ]
    },
    {
      "cell_type": "markdown",
      "source": [
        "Dataset consists of 3 files: 1429_1.csv\n",
        "Datafiniti_Amazon_Consumer_Reviews_of_Amazon_Products.csv\n",
        "Datafiniti_Amazon_Consumer_Reviews_of_Amazon_Products_May19.csv\n",
        "\n",
        "\n"
      ],
      "metadata": {
        "id": "AiGNuG9FxzRc"
      }
    },
    {
      "cell_type": "code",
      "execution_count": 3,
      "metadata": {
        "id": "kuAr6V4SpWt9",
        "colab": {
          "base_uri": "https://localhost:8080/"
        },
        "outputId": "c1dd7c89-bc85-4262-8dd5-8b5bed706cf2"
      },
      "outputs": [
        {
          "output_type": "stream",
          "name": "stdout",
          "text": [
            "Requirement already satisfied: pandas in /usr/local/lib/python3.10/dist-packages (2.2.3)\n",
            "Requirement already satisfied: numpy>=1.22.4 in /usr/local/lib/python3.10/dist-packages (from pandas) (1.26.4)\n",
            "Requirement already satisfied: python-dateutil>=2.8.2 in /usr/local/lib/python3.10/dist-packages (from pandas) (2.8.2)\n",
            "Requirement already satisfied: pytz>=2020.1 in /usr/local/lib/python3.10/dist-packages (from pandas) (2024.2)\n",
            "Requirement already satisfied: tzdata>=2022.7 in /usr/local/lib/python3.10/dist-packages (from pandas) (2024.2)\n",
            "Requirement already satisfied: six>=1.5 in /usr/local/lib/python3.10/dist-packages (from python-dateutil>=2.8.2->pandas) (1.16.0)\n"
          ]
        }
      ],
      "source": [
        "!pip install --upgrade pandas\n"
      ]
    },
    {
      "cell_type": "code",
      "source": [
        "import pandas as pd\n",
        "\n",
        "def safe_read_csv(file_path):\n",
        "    \"\"\"\n",
        "    Safely reads a CSV file by handling parsing issues.\n",
        "    \"\"\"\n",
        "    try:\n",
        "        return pd.read_csv(file_path, low_memory=False, on_bad_lines='skip', quotechar='\"', escapechar='\\\\')\n",
        "    except Exception as e:\n",
        "        print(f\"Error reading file {file_path}: {e}\")\n",
        "        return None\n",
        "\n",
        "# Load datasets safely\n",
        "file1_data = safe_read_csv('1429_1.csv')\n",
        "file2_data = safe_read_csv('Datafiniti_Amazon_Consumer_Reviews_of_Amazon_Products.csv')\n",
        "file3_data = safe_read_csv('Datafiniti_Amazon_Consumer_Reviews_of_Amazon_Products_May19.csv')\n",
        "\n",
        "# Check if all files loaded successfully\n",
        "if file1_data is not None and file2_data is not None and file3_data is not None:\n",
        "    # Standardizing column names\n",
        "    file1_data.rename(columns=lambda x: x.strip(), inplace=True)\n",
        "    file2_data.rename(columns=lambda x: x.strip(), inplace=True)\n",
        "    file3_data.rename(columns=lambda x: x.strip(), inplace=True)\n",
        "\n",
        "    # Align datasets to common columns\n",
        "    common_columns = list(set(file1_data.columns) & set(file2_data.columns) & set(file3_data.columns))\n",
        "\n",
        "    # Selecting only common columns\n",
        "    file1_data = file1_data[common_columns]\n",
        "    file2_data = file2_data[common_columns]\n",
        "    file3_data = file3_data[common_columns]\n",
        "\n",
        "    # Concatenate datasets\n",
        "    combined_data = pd.concat([file1_data, file2_data, file3_data], ignore_index=True)\n",
        "\n",
        "    # Dropping duplicates\n",
        "    combined_data.drop_duplicates(inplace=True)\n",
        "\n",
        "    # Resetting index\n",
        "    combined_data.reset_index(drop=True, inplace=True)\n",
        "\n",
        "    # Save cleaned dataset\n",
        "    combined_data.to_csv('combined_reviews_cleaned.csv', index=False)\n",
        "\n",
        "    # Display overview\n",
        "    print(\"Dataset successfully cleaned and saved.\")\n",
        "    print(combined_data.info())\n",
        "else:\n",
        "    print(\"One or more files could not be loaded.\")"
      ],
      "metadata": {
        "colab": {
          "base_uri": "https://localhost:8080/"
        },
        "id": "egQJ111b07sn",
        "outputId": "e338bd13-26e4-4b5d-f2fc-4ca72a2ca3f7"
      },
      "execution_count": 4,
      "outputs": [
        {
          "output_type": "stream",
          "name": "stdout",
          "text": [
            "Dataset successfully cleaned and saved.\n",
            "<class 'pandas.core.frame.DataFrame'>\n",
            "RangeIndex: 67351 entries, 0 to 67350\n",
            "Data columns (total 17 columns):\n",
            " #   Column               Non-Null Count  Dtype  \n",
            "---  ------               --------------  -----  \n",
            " 0   reviews.text         67350 non-null  object \n",
            " 1   reviews.username     67339 non-null  object \n",
            " 2   reviews.sourceURLs   67351 non-null  object \n",
            " 3   reviews.dateSeen     67351 non-null  object \n",
            " 4   categories           67351 non-null  object \n",
            " 5   reviews.date         67312 non-null  object \n",
            " 6   reviews.id           71 non-null     float64\n",
            " 7   reviews.doRecommend  54511 non-null  object \n",
            " 8   reviews.title        67332 non-null  object \n",
            " 9   asins                67349 non-null  object \n",
            " 10  name                 60591 non-null  object \n",
            " 11  manufacturer         67351 non-null  object \n",
            " 12  keys                 67351 non-null  object \n",
            " 13  reviews.rating       67318 non-null  float64\n",
            " 14  brand                67351 non-null  object \n",
            " 15  reviews.numHelpful   54605 non-null  float64\n",
            " 16  id                   67351 non-null  object \n",
            "dtypes: float64(3), object(14)\n",
            "memory usage: 8.7+ MB\n",
            "None\n"
          ]
        }
      ]
    },
    {
      "cell_type": "code",
      "source": [
        "# Load the combined dataset\n",
        "import pandas as pd\n",
        "\n",
        "# Load the cleaned dataset\n",
        "combined_data = pd.read_csv('combined_reviews_cleaned.csv')\n",
        "\n",
        "# Display initial missing values\n",
        "print(\"Missing Values Before Processing:\")\n",
        "print(combined_data.isnull().sum())\n",
        "\n",
        "# 1. Drop rows with missing `reviews.text` (essential for all tasks)\n",
        "combined_data = combined_data.dropna(subset=['reviews.text'])\n",
        "\n",
        "# 2. Drop rows with missing `reviews.rating` (essential for classification and clustering)\n",
        "combined_data = combined_data.dropna(subset=['reviews.rating'])\n",
        "\n",
        "# 3. Optional: Handle missing values in other columns (example: reviews.doRecommend)\n",
        "# Here, replace missing values with a default or mode value\n",
        "combined_data['reviews.doRecommend'] = combined_data['reviews.doRecommend'].fillna('Unknown')\n",
        "\n",
        "# 4. Drop columns with minimal or irrelevant data (e.g., `reviews.id` with only 71 non-null values)\n",
        "columns_to_drop = ['reviews.id']\n",
        "combined_data = combined_data.drop(columns=columns_to_drop, errors='ignore')\n",
        "\n",
        "# Display missing values after processing\n",
        "print(\"\\nMissing Values After Processing:\")\n",
        "print(combined_data.isnull().sum())\n",
        "\n",
        "# Save the preprocessed dataset\n",
        "preprocessed_dataset_path = 'preprocessed_reviews.csv'\n",
        "combined_data.to_csv(preprocessed_dataset_path, index=False)\n",
        "\n",
        "print(f\"Preprocessed dataset saved to {preprocessed_dataset_path}.\")\n",
        "\n"
      ],
      "metadata": {
        "colab": {
          "base_uri": "https://localhost:8080/"
        },
        "id": "rGfEFrsF16CF",
        "outputId": "be38095a-7284-4d49-e60d-ea2529e82189"
      },
      "execution_count": 5,
      "outputs": [
        {
          "output_type": "stream",
          "name": "stderr",
          "text": [
            "<ipython-input-5-e3439053492b>:5: DtypeWarning: Columns (7) have mixed types. Specify dtype option on import or set low_memory=False.\n",
            "  combined_data = pd.read_csv('combined_reviews_cleaned.csv')\n"
          ]
        },
        {
          "output_type": "stream",
          "name": "stdout",
          "text": [
            "Missing Values Before Processing:\n",
            "reviews.text               1\n",
            "reviews.username          12\n",
            "reviews.sourceURLs         0\n",
            "reviews.dateSeen           0\n",
            "categories                 0\n",
            "reviews.date              39\n",
            "reviews.id             67280\n",
            "reviews.doRecommend    12840\n",
            "reviews.title             19\n",
            "asins                      2\n",
            "name                    6760\n",
            "manufacturer               0\n",
            "keys                       0\n",
            "reviews.rating            33\n",
            "brand                      0\n",
            "reviews.numHelpful     12746\n",
            "id                         0\n",
            "dtype: int64\n",
            "\n",
            "Missing Values After Processing:\n",
            "reviews.text               0\n",
            "reviews.username          12\n",
            "reviews.sourceURLs         0\n",
            "reviews.dateSeen           0\n",
            "categories                 0\n",
            "reviews.date              29\n",
            "reviews.doRecommend        0\n",
            "reviews.title             19\n",
            "asins                      2\n",
            "name                    6759\n",
            "manufacturer               0\n",
            "keys                       0\n",
            "reviews.rating             0\n",
            "brand                      0\n",
            "reviews.numHelpful     12712\n",
            "id                         0\n",
            "dtype: int64\n",
            "Preprocessed dataset saved to preprocessed_reviews.csv.\n"
          ]
        }
      ]
    },
    {
      "cell_type": "markdown",
      "source": [
        "Next Steps:\n",
        "Now that the problematic file has been cleaned and saved as Datafiniti_Cleaned_May19.csv, l\n",
        "\n",
        "1.  inspect the cleaned file to ensure it's ready for analysis:\n",
        "Check for missing values.\n",
        "Display an overview of the data.\n",
        "\n",
        "2. Merge Cleaned Data with Other Files\n",
        "Combine the cleaned file with the previously processed datasets to create a unified dataset.\n",
        "\n",
        "3. Sentiment Classification and Clustering\n"
      ],
      "metadata": {
        "id": "JK1HJxk22sJz"
      }
    },
    {
      "cell_type": "markdown",
      "source": [],
      "metadata": {
        "id": "r2HTjrCs07iz"
      }
    },
    {
      "cell_type": "markdown",
      "source": [
        "**Sentinent analysis  with RoBerta-base**"
      ],
      "metadata": {
        "id": "CdxvFw793L6V"
      }
    },
    {
      "cell_type": "code",
      "source": [
        "!pip install datasets"
      ],
      "metadata": {
        "colab": {
          "base_uri": "https://localhost:8080/"
        },
        "id": "1C42Ob4Fobbt",
        "outputId": "6edf49b7-5588-48bc-ea2d-032771695539"
      },
      "execution_count": 6,
      "outputs": [
        {
          "output_type": "stream",
          "name": "stdout",
          "text": [
            "Requirement already satisfied: datasets in /usr/local/lib/python3.10/dist-packages (3.1.0)\n",
            "Requirement already satisfied: filelock in /usr/local/lib/python3.10/dist-packages (from datasets) (3.16.1)\n",
            "Requirement already satisfied: numpy>=1.17 in /usr/local/lib/python3.10/dist-packages (from datasets) (1.26.4)\n",
            "Requirement already satisfied: pyarrow>=15.0.0 in /usr/local/lib/python3.10/dist-packages (from datasets) (17.0.0)\n",
            "Requirement already satisfied: dill<0.3.9,>=0.3.0 in /usr/local/lib/python3.10/dist-packages (from datasets) (0.3.8)\n",
            "Requirement already satisfied: pandas in /usr/local/lib/python3.10/dist-packages (from datasets) (2.2.3)\n",
            "Requirement already satisfied: requests>=2.32.2 in /usr/local/lib/python3.10/dist-packages (from datasets) (2.32.3)\n",
            "Requirement already satisfied: tqdm>=4.66.3 in /usr/local/lib/python3.10/dist-packages (from datasets) (4.66.6)\n",
            "Requirement already satisfied: xxhash in /usr/local/lib/python3.10/dist-packages (from datasets) (3.5.0)\n",
            "Requirement already satisfied: multiprocess<0.70.17 in /usr/local/lib/python3.10/dist-packages (from datasets) (0.70.16)\n",
            "Requirement already satisfied: fsspec<=2024.9.0,>=2023.1.0 in /usr/local/lib/python3.10/dist-packages (from fsspec[http]<=2024.9.0,>=2023.1.0->datasets) (2024.9.0)\n",
            "Requirement already satisfied: aiohttp in /usr/local/lib/python3.10/dist-packages (from datasets) (3.11.2)\n",
            "Requirement already satisfied: huggingface-hub>=0.23.0 in /usr/local/lib/python3.10/dist-packages (from datasets) (0.26.2)\n",
            "Requirement already satisfied: packaging in /usr/local/lib/python3.10/dist-packages (from datasets) (24.2)\n",
            "Requirement already satisfied: pyyaml>=5.1 in /usr/local/lib/python3.10/dist-packages (from datasets) (6.0.2)\n",
            "Requirement already satisfied: aiohappyeyeballs>=2.3.0 in /usr/local/lib/python3.10/dist-packages (from aiohttp->datasets) (2.4.3)\n",
            "Requirement already satisfied: aiosignal>=1.1.2 in /usr/local/lib/python3.10/dist-packages (from aiohttp->datasets) (1.3.1)\n",
            "Requirement already satisfied: attrs>=17.3.0 in /usr/local/lib/python3.10/dist-packages (from aiohttp->datasets) (24.2.0)\n",
            "Requirement already satisfied: frozenlist>=1.1.1 in /usr/local/lib/python3.10/dist-packages (from aiohttp->datasets) (1.5.0)\n",
            "Requirement already satisfied: multidict<7.0,>=4.5 in /usr/local/lib/python3.10/dist-packages (from aiohttp->datasets) (6.1.0)\n",
            "Requirement already satisfied: propcache>=0.2.0 in /usr/local/lib/python3.10/dist-packages (from aiohttp->datasets) (0.2.0)\n",
            "Requirement already satisfied: yarl<2.0,>=1.17.0 in /usr/local/lib/python3.10/dist-packages (from aiohttp->datasets) (1.17.2)\n",
            "Requirement already satisfied: async-timeout<6.0,>=4.0 in /usr/local/lib/python3.10/dist-packages (from aiohttp->datasets) (4.0.3)\n",
            "Requirement already satisfied: typing-extensions>=3.7.4.3 in /usr/local/lib/python3.10/dist-packages (from huggingface-hub>=0.23.0->datasets) (4.12.2)\n",
            "Requirement already satisfied: charset-normalizer<4,>=2 in /usr/local/lib/python3.10/dist-packages (from requests>=2.32.2->datasets) (3.4.0)\n",
            "Requirement already satisfied: idna<4,>=2.5 in /usr/local/lib/python3.10/dist-packages (from requests>=2.32.2->datasets) (3.10)\n",
            "Requirement already satisfied: urllib3<3,>=1.21.1 in /usr/local/lib/python3.10/dist-packages (from requests>=2.32.2->datasets) (2.2.3)\n",
            "Requirement already satisfied: certifi>=2017.4.17 in /usr/local/lib/python3.10/dist-packages (from requests>=2.32.2->datasets) (2024.8.30)\n",
            "Requirement already satisfied: python-dateutil>=2.8.2 in /usr/local/lib/python3.10/dist-packages (from pandas->datasets) (2.8.2)\n",
            "Requirement already satisfied: pytz>=2020.1 in /usr/local/lib/python3.10/dist-packages (from pandas->datasets) (2024.2)\n",
            "Requirement already satisfied: tzdata>=2022.7 in /usr/local/lib/python3.10/dist-packages (from pandas->datasets) (2024.2)\n",
            "Requirement already satisfied: six>=1.5 in /usr/local/lib/python3.10/dist-packages (from python-dateutil>=2.8.2->pandas->datasets) (1.16.0)\n"
          ]
        }
      ]
    },
    {
      "cell_type": "code",
      "source": [
        "import pandas as pd\n",
        "from sklearn.model_selection import train_test_split\n",
        "from transformers import AutoTokenizer, AutoModelForSequenceClassification, Trainer, TrainingArguments\n",
        "from datasets import Dataset\n",
        "\n",
        "# Load the preprocessed dataset\n",
        "data = pd.read_csv('preprocessed_reviews.csv', low_memory=False)\n",
        "\n",
        "# Map ratings to sentiment using the given labels\n",
        "def map_rating_to_sentiment(rating):\n",
        "    if rating > 3:\n",
        "        return 2  # Positive\n",
        "    elif rating == 3:\n",
        "        return 1  # Neutral\n",
        "    else:\n",
        "        return 0  # Negative\n",
        "\n",
        "data['sentiment'] = data['reviews.rating'].apply(map_rating_to_sentiment)\n",
        "\n",
        "# Split data into training and testing sets\n",
        "train_texts, test_texts, train_labels, test_labels = train_test_split(\n",
        "    data['reviews.text'], data['sentiment'], test_size=0.2, random_state=42\n",
        ")\n",
        "\n",
        "# Convert to Hugging Face Dataset format\n",
        "train_df = pd.DataFrame({\"text\": train_texts, \"label\": train_labels})\n",
        "test_df = pd.DataFrame({\"text\": test_texts, \"label\": test_labels})\n",
        "\n",
        "train_dataset = Dataset.from_pandas(train_df)\n",
        "test_dataset = Dataset.from_pandas(test_df)\n",
        "\n",
        "# Tokenizer and model setup\n",
        "model_name = \"roberta-base\"\n",
        "tokenizer = AutoTokenizer.from_pretrained(model_name)\n",
        "model = AutoModelForSequenceClassification.from_pretrained(model_name, num_labels=3)  # 3 classes\n",
        "\n",
        "# Tokenize datasets\n",
        "def preprocess_function(examples):\n",
        "    return tokenizer(examples[\"text\"], padding=\"max_length\", truncation=True)\n",
        "\n",
        "train_dataset = train_dataset.map(preprocess_function, batched=True)\n",
        "test_dataset = test_dataset.map(preprocess_function, batched=True)\n",
        "\n",
        "# Training arguments\n",
        "training_args = TrainingArguments(\n",
        "    output_dir=\"./results\",\n",
        "    eval_strategy=\"epoch\",\n",
        "    save_strategy=\"epoch\",\n",
        "    learning_rate=2e-5,\n",
        "    per_device_train_batch_size=8,\n",
        "    num_train_epochs=3,\n",
        "    weight_decay=0.01,\n",
        "    logging_dir='./logs',\n",
        "    logging_steps=10,\n",
        "    save_total_limit=2,\n",
        "    report_to=\"none\"  # Disable W&B and other integrations\n",
        ")\n",
        "\n",
        "import os\n",
        "os.environ[\"WANDB_DISABLED\"] = \"true\"\n",
        "\n",
        "\n",
        "# Define Trainer\n",
        "trainer = Trainer(\n",
        "    model=model,\n",
        "    args=training_args,\n",
        "    train_dataset=train_dataset,\n",
        "    eval_dataset=test_dataset,\n",
        "    tokenizer=tokenizer\n",
        ")\n",
        "\n",
        "# Train the model\n",
        "trainer.train()\n",
        "\n",
        "# Save the fine-tuned model\n",
        "model.save_pretrained(\"./fine_tuned_roberta_sentiment\")\n",
        "tokenizer.save_pretrained(\"./fine_tuned_roberta_sentiment\")\n",
        "\n",
        "print(\"Model fine-tuned and saved successfully!\")\n"
      ],
      "metadata": {
        "colab": {
          "base_uri": "https://localhost:8080/",
          "height": 393,
          "referenced_widgets": [
            "8a5bec4678174801b03bb0b1587db171",
            "edf2c2250d40421fb1755083b2c03b5c",
            "2205688a991d4b30ae613e360546086e",
            "ad6830538d8041be8ba48505bc06e199",
            "c788be84596c49139b32bf7ebf9158fa",
            "a882342651014747b9bc460aeaed0f0a",
            "94562a5a0cb8420e8e10e413bb6aef5f",
            "a8c88d2cd4e44f66843f1b45bdf867f7",
            "5ae4ffefc1b54b74ac739af29170f813",
            "9da6705a21414f7b8eeb687c4e730d63",
            "3566b52cee404202972941cae45c29c2",
            "c8280fef55194e5d891b298ac2ce8a14",
            "95c10196ba3c42b4a27c0ec67f3c32e9",
            "8a38eb80a6f9413c978238430ac2484c",
            "bc5d59799c794bac8646b766c054ec11",
            "e5dc002d76b74eb1baa8d760a22e48a1",
            "b80d5ff0bb2c4ecabdd6db4c418c54a8",
            "a22f4a3933f24f77ac1ccab1097f78fb",
            "051455e8dca34569b24b37d1fbe1fa82",
            "decd419291ea49c78aa2dd39cf7e966b",
            "9d54678a1aeb44f494cd483523138bd4",
            "3cce9bd4815b4e0b9aaaf896a546bf1c"
          ]
        },
        "id": "jV-4-YvqRwYH",
        "outputId": "0f1a4cdf-c33a-4e5c-caf0-ac78e9b505eb"
      },
      "execution_count": null,
      "outputs": [
        {
          "metadata": {
            "tags": null
          },
          "name": "stderr",
          "output_type": "stream",
          "text": [
            "Some weights of RobertaForSequenceClassification were not initialized from the model checkpoint at roberta-base and are newly initialized: ['classifier.dense.bias', 'classifier.dense.weight', 'classifier.out_proj.bias', 'classifier.out_proj.weight']\n",
            "You should probably TRAIN this model on a down-stream task to be able to use it for predictions and inference.\n"
          ]
        },
        {
          "data": {
            "application/vnd.jupyter.widget-view+json": {
              "model_id": "8a5bec4678174801b03bb0b1587db171",
              "version_major": 2,
              "version_minor": 0
            },
            "text/plain": [
              "Map:   0%|          | 0/53853 [00:00<?, ? examples/s]"
            ]
          },
          "metadata": {},
          "output_type": "display_data"
        },
        {
          "data": {
            "application/vnd.jupyter.widget-view+json": {
              "model_id": "c8280fef55194e5d891b298ac2ce8a14",
              "version_major": 2,
              "version_minor": 0
            },
            "text/plain": [
              "Map:   0%|          | 0/13464 [00:00<?, ? examples/s]"
            ]
          },
          "metadata": {},
          "output_type": "display_data"
        },
        {
          "metadata": {
            "tags": null
          },
          "name": "stderr",
          "output_type": "stream",
          "text": [
            "<ipython-input-8-007695e7bb4c>:64: FutureWarning: `tokenizer` is deprecated and will be removed in version 5.0.0 for `Trainer.__init__`. Use `processing_class` instead.\n",
            "  trainer = Trainer(\n"
          ]
        },
        {
          "data": {
            "text/html": [
              "\n",
              "    <div>\n",
              "      \n",
              "      <progress value='13849' max='20196' style='width:300px; height:20px; vertical-align: middle;'></progress>\n",
              "      [13849/20196 3:06:11 < 1:25:20, 1.24 it/s, Epoch 2.06/3]\n",
              "    </div>\n",
              "    <table border=\"1\" class=\"dataframe\">\n",
              "  <thead>\n",
              " <tr style=\"text-align: left;\">\n",
              "      <th>Epoch</th>\n",
              "      <th>Training Loss</th>\n",
              "      <th>Validation Loss</th>\n",
              "    </tr>\n",
              "  </thead>\n",
              "  <tbody>\n",
              "    <tr>\n",
              "      <td>1</td>\n",
              "      <td>0.152100</td>\n",
              "      <td>0.210057</td>\n",
              "    </tr>\n",
              "    <tr>\n",
              "      <td>2</td>\n",
              "      <td>0.240700</td>\n",
              "      <td>0.208434</td>\n",
              "    </tr>\n",
              "  </tbody>\n",
              "</table><p>"
            ],
            "text/plain": [
              "<IPython.core.display.HTML object>"
            ]
          },
          "metadata": {},
          "output_type": "display_data"
        },
        {
          "output_type": "display_data",
          "data": {
            "text/plain": [
              "<IPython.core.display.HTML object>"
            ],
            "text/html": [
              "\n",
              "    <div>\n",
              "      \n",
              "      <progress value='13892' max='20196' style='width:300px; height:20px; vertical-align: middle;'></progress>\n",
              "      [13892/20196 3:06:44 < 1:24:45, 1.24 it/s, Epoch 2.06/3]\n",
              "    </div>\n",
              "    <table border=\"1\" class=\"dataframe\">\n",
              "  <thead>\n",
              " <tr style=\"text-align: left;\">\n",
              "      <th>Epoch</th>\n",
              "      <th>Training Loss</th>\n",
              "      <th>Validation Loss</th>\n",
              "    </tr>\n",
              "  </thead>\n",
              "  <tbody>\n",
              "    <tr>\n",
              "      <td>1</td>\n",
              "      <td>0.152100</td>\n",
              "      <td>0.210057</td>\n",
              "    </tr>\n",
              "    <tr>\n",
              "      <td>2</td>\n",
              "      <td>0.240700</td>\n",
              "      <td>0.208434</td>\n",
              "    </tr>\n",
              "  </tbody>\n",
              "</table><p>"
            ]
          },
          "metadata": {}
        }
      ]
    },
    {
      "cell_type": "markdown",
      "source": [
        "Clustering based on emrging trends to ascertain partner growth opportuntities . Lifestyle Enhancers:\n",
        "\n",
        "Products designed to improve daily routines or convenience.\n",
        "Includes items like Nespresso pods, smart assistants, pet carriers, and other gadgets that simplify life.\n",
        "Creative and Productivity Tools:\n",
        "\n",
        "Products for work, study, or creative activities.\n",
        "Includes laptops, tablets, keyboards, laptop stands, webcams, and styluses.\n",
        "Health and Wellness:\n",
        "\n",
        "Devices that focus on personal health, fitness, or beauty.\n",
        "Includes fitness trackers, electric massagers, hairdryers, and grooming devices.\n",
        "Entertainment and Immersion:\n",
        "\n",
        "Products that provide entertainment or enhanced experiences.\n",
        "Includes gaming consoles, headphones, speakers, VR headsets, and streaming devices.\n",
        "Power and Connectivity Solutions:\n",
        "\n",
        "Products that enable devices to stay powered or connected.\n",
        "Includes chargers, batteries, power banks, docking stations, and USB hubs.\n",
        "Eco-Friendly and Sustainable Solutions:\n",
        "\n",
        "Products marketed as sustainable or environmentally friendly."
      ],
      "metadata": {
        "id": "g3ZLVzU5UW_P"
      }
    },
    {
      "cell_type": "code",
      "source": [],
      "metadata": {
        "id": "1zcSoyvrUyoe"
      },
      "execution_count": null,
      "outputs": []
    },
    {
      "cell_type": "markdown",
      "source": [
        "Testing the model"
      ],
      "metadata": {
        "id": "6CoBIShcViWp"
      }
    }
  ]
}
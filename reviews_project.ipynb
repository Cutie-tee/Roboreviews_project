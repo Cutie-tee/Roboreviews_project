{
  "nbformat": 4,
  "nbformat_minor": 0,
  "metadata": {
    "colab": {
      "provenance": [],
      "gpuType": "T4",
      "machine_shape": "hm",
      "authorship_tag": "ABX9TyOAXmMY6QLBhmofdJ9IPzDx",
      "include_colab_link": true
    },
    "kernelspec": {
      "name": "python3",
      "display_name": "Python 3"
    },
    "language_info": {
      "name": "python"
    },
    "accelerator": "GPU",
    "widgets": {
      "application/vnd.jupyter.widget-state+json": {
        "a4bf32dafc3b4b4bb474c6e4e0d7a6ec": {
          "model_module": "@jupyter-widgets/controls",
          "model_name": "HBoxModel",
          "model_module_version": "1.5.0",
          "state": {
            "_dom_classes": [],
            "_model_module": "@jupyter-widgets/controls",
            "_model_module_version": "1.5.0",
            "_model_name": "HBoxModel",
            "_view_count": null,
            "_view_module": "@jupyter-widgets/controls",
            "_view_module_version": "1.5.0",
            "_view_name": "HBoxView",
            "box_style": "",
            "children": [
              "IPY_MODEL_f059b8b2e4ab42609c8559cc10823f65",
              "IPY_MODEL_429a1379ab7e48a38f17297dce3a50a7",
              "IPY_MODEL_814a2f14cae74860956b4dabb77a4ea2"
            ],
            "layout": "IPY_MODEL_958237da6e7948c39bc5b8196707039a"
          }
        },
        "f059b8b2e4ab42609c8559cc10823f65": {
          "model_module": "@jupyter-widgets/controls",
          "model_name": "HTMLModel",
          "model_module_version": "1.5.0",
          "state": {
            "_dom_classes": [],
            "_model_module": "@jupyter-widgets/controls",
            "_model_module_version": "1.5.0",
            "_model_name": "HTMLModel",
            "_view_count": null,
            "_view_module": "@jupyter-widgets/controls",
            "_view_module_version": "1.5.0",
            "_view_name": "HTMLView",
            "description": "",
            "description_tooltip": null,
            "layout": "IPY_MODEL_1b6b93b9f28e4b6dbd59d1dd665e0511",
            "placeholder": "​",
            "style": "IPY_MODEL_12621c48ec5c4be4ba1172a7b28401c5",
            "value": "Map: 100%"
          }
        },
        "429a1379ab7e48a38f17297dce3a50a7": {
          "model_module": "@jupyter-widgets/controls",
          "model_name": "FloatProgressModel",
          "model_module_version": "1.5.0",
          "state": {
            "_dom_classes": [],
            "_model_module": "@jupyter-widgets/controls",
            "_model_module_version": "1.5.0",
            "_model_name": "FloatProgressModel",
            "_view_count": null,
            "_view_module": "@jupyter-widgets/controls",
            "_view_module_version": "1.5.0",
            "_view_name": "ProgressView",
            "bar_style": "success",
            "description": "",
            "description_tooltip": null,
            "layout": "IPY_MODEL_3ccac01311de484f9ac87a9117b4ef78",
            "max": 40791,
            "min": 0,
            "orientation": "horizontal",
            "style": "IPY_MODEL_8e7711cc34a641b9aecd38f4c9f094ce",
            "value": 40791
          }
        },
        "814a2f14cae74860956b4dabb77a4ea2": {
          "model_module": "@jupyter-widgets/controls",
          "model_name": "HTMLModel",
          "model_module_version": "1.5.0",
          "state": {
            "_dom_classes": [],
            "_model_module": "@jupyter-widgets/controls",
            "_model_module_version": "1.5.0",
            "_model_name": "HTMLModel",
            "_view_count": null,
            "_view_module": "@jupyter-widgets/controls",
            "_view_module_version": "1.5.0",
            "_view_name": "HTMLView",
            "description": "",
            "description_tooltip": null,
            "layout": "IPY_MODEL_8e230c20a14740f1b181d33fec632930",
            "placeholder": "​",
            "style": "IPY_MODEL_8ff04860740e48748ad5f5555fbde19d",
            "value": " 40791/40791 [00:06&lt;00:00, 5781.99 examples/s]"
          }
        },
        "958237da6e7948c39bc5b8196707039a": {
          "model_module": "@jupyter-widgets/base",
          "model_name": "LayoutModel",
          "model_module_version": "1.2.0",
          "state": {
            "_model_module": "@jupyter-widgets/base",
            "_model_module_version": "1.2.0",
            "_model_name": "LayoutModel",
            "_view_count": null,
            "_view_module": "@jupyter-widgets/base",
            "_view_module_version": "1.2.0",
            "_view_name": "LayoutView",
            "align_content": null,
            "align_items": null,
            "align_self": null,
            "border": null,
            "bottom": null,
            "display": null,
            "flex": null,
            "flex_flow": null,
            "grid_area": null,
            "grid_auto_columns": null,
            "grid_auto_flow": null,
            "grid_auto_rows": null,
            "grid_column": null,
            "grid_gap": null,
            "grid_row": null,
            "grid_template_areas": null,
            "grid_template_columns": null,
            "grid_template_rows": null,
            "height": null,
            "justify_content": null,
            "justify_items": null,
            "left": null,
            "margin": null,
            "max_height": null,
            "max_width": null,
            "min_height": null,
            "min_width": null,
            "object_fit": null,
            "object_position": null,
            "order": null,
            "overflow": null,
            "overflow_x": null,
            "overflow_y": null,
            "padding": null,
            "right": null,
            "top": null,
            "visibility": null,
            "width": null
          }
        },
        "1b6b93b9f28e4b6dbd59d1dd665e0511": {
          "model_module": "@jupyter-widgets/base",
          "model_name": "LayoutModel",
          "model_module_version": "1.2.0",
          "state": {
            "_model_module": "@jupyter-widgets/base",
            "_model_module_version": "1.2.0",
            "_model_name": "LayoutModel",
            "_view_count": null,
            "_view_module": "@jupyter-widgets/base",
            "_view_module_version": "1.2.0",
            "_view_name": "LayoutView",
            "align_content": null,
            "align_items": null,
            "align_self": null,
            "border": null,
            "bottom": null,
            "display": null,
            "flex": null,
            "flex_flow": null,
            "grid_area": null,
            "grid_auto_columns": null,
            "grid_auto_flow": null,
            "grid_auto_rows": null,
            "grid_column": null,
            "grid_gap": null,
            "grid_row": null,
            "grid_template_areas": null,
            "grid_template_columns": null,
            "grid_template_rows": null,
            "height": null,
            "justify_content": null,
            "justify_items": null,
            "left": null,
            "margin": null,
            "max_height": null,
            "max_width": null,
            "min_height": null,
            "min_width": null,
            "object_fit": null,
            "object_position": null,
            "order": null,
            "overflow": null,
            "overflow_x": null,
            "overflow_y": null,
            "padding": null,
            "right": null,
            "top": null,
            "visibility": null,
            "width": null
          }
        },
        "12621c48ec5c4be4ba1172a7b28401c5": {
          "model_module": "@jupyter-widgets/controls",
          "model_name": "DescriptionStyleModel",
          "model_module_version": "1.5.0",
          "state": {
            "_model_module": "@jupyter-widgets/controls",
            "_model_module_version": "1.5.0",
            "_model_name": "DescriptionStyleModel",
            "_view_count": null,
            "_view_module": "@jupyter-widgets/base",
            "_view_module_version": "1.2.0",
            "_view_name": "StyleView",
            "description_width": ""
          }
        },
        "3ccac01311de484f9ac87a9117b4ef78": {
          "model_module": "@jupyter-widgets/base",
          "model_name": "LayoutModel",
          "model_module_version": "1.2.0",
          "state": {
            "_model_module": "@jupyter-widgets/base",
            "_model_module_version": "1.2.0",
            "_model_name": "LayoutModel",
            "_view_count": null,
            "_view_module": "@jupyter-widgets/base",
            "_view_module_version": "1.2.0",
            "_view_name": "LayoutView",
            "align_content": null,
            "align_items": null,
            "align_self": null,
            "border": null,
            "bottom": null,
            "display": null,
            "flex": null,
            "flex_flow": null,
            "grid_area": null,
            "grid_auto_columns": null,
            "grid_auto_flow": null,
            "grid_auto_rows": null,
            "grid_column": null,
            "grid_gap": null,
            "grid_row": null,
            "grid_template_areas": null,
            "grid_template_columns": null,
            "grid_template_rows": null,
            "height": null,
            "justify_content": null,
            "justify_items": null,
            "left": null,
            "margin": null,
            "max_height": null,
            "max_width": null,
            "min_height": null,
            "min_width": null,
            "object_fit": null,
            "object_position": null,
            "order": null,
            "overflow": null,
            "overflow_x": null,
            "overflow_y": null,
            "padding": null,
            "right": null,
            "top": null,
            "visibility": null,
            "width": null
          }
        },
        "8e7711cc34a641b9aecd38f4c9f094ce": {
          "model_module": "@jupyter-widgets/controls",
          "model_name": "ProgressStyleModel",
          "model_module_version": "1.5.0",
          "state": {
            "_model_module": "@jupyter-widgets/controls",
            "_model_module_version": "1.5.0",
            "_model_name": "ProgressStyleModel",
            "_view_count": null,
            "_view_module": "@jupyter-widgets/base",
            "_view_module_version": "1.2.0",
            "_view_name": "StyleView",
            "bar_color": null,
            "description_width": ""
          }
        },
        "8e230c20a14740f1b181d33fec632930": {
          "model_module": "@jupyter-widgets/base",
          "model_name": "LayoutModel",
          "model_module_version": "1.2.0",
          "state": {
            "_model_module": "@jupyter-widgets/base",
            "_model_module_version": "1.2.0",
            "_model_name": "LayoutModel",
            "_view_count": null,
            "_view_module": "@jupyter-widgets/base",
            "_view_module_version": "1.2.0",
            "_view_name": "LayoutView",
            "align_content": null,
            "align_items": null,
            "align_self": null,
            "border": null,
            "bottom": null,
            "display": null,
            "flex": null,
            "flex_flow": null,
            "grid_area": null,
            "grid_auto_columns": null,
            "grid_auto_flow": null,
            "grid_auto_rows": null,
            "grid_column": null,
            "grid_gap": null,
            "grid_row": null,
            "grid_template_areas": null,
            "grid_template_columns": null,
            "grid_template_rows": null,
            "height": null,
            "justify_content": null,
            "justify_items": null,
            "left": null,
            "margin": null,
            "max_height": null,
            "max_width": null,
            "min_height": null,
            "min_width": null,
            "object_fit": null,
            "object_position": null,
            "order": null,
            "overflow": null,
            "overflow_x": null,
            "overflow_y": null,
            "padding": null,
            "right": null,
            "top": null,
            "visibility": null,
            "width": null
          }
        },
        "8ff04860740e48748ad5f5555fbde19d": {
          "model_module": "@jupyter-widgets/controls",
          "model_name": "DescriptionStyleModel",
          "model_module_version": "1.5.0",
          "state": {
            "_model_module": "@jupyter-widgets/controls",
            "_model_module_version": "1.5.0",
            "_model_name": "DescriptionStyleModel",
            "_view_count": null,
            "_view_module": "@jupyter-widgets/base",
            "_view_module_version": "1.2.0",
            "_view_name": "StyleView",
            "description_width": ""
          }
        },
        "9c519cd59fb747c5abd73ef79d1650fd": {
          "model_module": "@jupyter-widgets/controls",
          "model_name": "HBoxModel",
          "model_module_version": "1.5.0",
          "state": {
            "_dom_classes": [],
            "_model_module": "@jupyter-widgets/controls",
            "_model_module_version": "1.5.0",
            "_model_name": "HBoxModel",
            "_view_count": null,
            "_view_module": "@jupyter-widgets/controls",
            "_view_module_version": "1.5.0",
            "_view_name": "HBoxView",
            "box_style": "",
            "children": [
              "IPY_MODEL_f87aeb62e1a44e22a5247c3d8b9300c4",
              "IPY_MODEL_daae43018a4c41a19e6f39f421e14781",
              "IPY_MODEL_afe4635d38324f4bba4277b82a0f835a"
            ],
            "layout": "IPY_MODEL_4a39e960369a40c7911721364b008981"
          }
        },
        "f87aeb62e1a44e22a5247c3d8b9300c4": {
          "model_module": "@jupyter-widgets/controls",
          "model_name": "HTMLModel",
          "model_module_version": "1.5.0",
          "state": {
            "_dom_classes": [],
            "_model_module": "@jupyter-widgets/controls",
            "_model_module_version": "1.5.0",
            "_model_name": "HTMLModel",
            "_view_count": null,
            "_view_module": "@jupyter-widgets/controls",
            "_view_module_version": "1.5.0",
            "_view_name": "HTMLView",
            "description": "",
            "description_tooltip": null,
            "layout": "IPY_MODEL_bab313ca2c3943d3be8116b3ab29caf1",
            "placeholder": "​",
            "style": "IPY_MODEL_8c811e43d4dc4ff993cd28381106c6dc",
            "value": "Map: 100%"
          }
        },
        "daae43018a4c41a19e6f39f421e14781": {
          "model_module": "@jupyter-widgets/controls",
          "model_name": "FloatProgressModel",
          "model_module_version": "1.5.0",
          "state": {
            "_dom_classes": [],
            "_model_module": "@jupyter-widgets/controls",
            "_model_module_version": "1.5.0",
            "_model_name": "FloatProgressModel",
            "_view_count": null,
            "_view_module": "@jupyter-widgets/controls",
            "_view_module_version": "1.5.0",
            "_view_name": "ProgressView",
            "bar_style": "success",
            "description": "",
            "description_tooltip": null,
            "layout": "IPY_MODEL_1a5d3fb8347341beb38d93cecac04c6c",
            "max": 10198,
            "min": 0,
            "orientation": "horizontal",
            "style": "IPY_MODEL_cd8c1e4639f4420bb404f4ebf973db62",
            "value": 10198
          }
        },
        "afe4635d38324f4bba4277b82a0f835a": {
          "model_module": "@jupyter-widgets/controls",
          "model_name": "HTMLModel",
          "model_module_version": "1.5.0",
          "state": {
            "_dom_classes": [],
            "_model_module": "@jupyter-widgets/controls",
            "_model_module_version": "1.5.0",
            "_model_name": "HTMLModel",
            "_view_count": null,
            "_view_module": "@jupyter-widgets/controls",
            "_view_module_version": "1.5.0",
            "_view_name": "HTMLView",
            "description": "",
            "description_tooltip": null,
            "layout": "IPY_MODEL_6970e6de74da4cdaa9ea30a465434c4d",
            "placeholder": "​",
            "style": "IPY_MODEL_5db89b7395644865887971f5e7415bc2",
            "value": " 10198/10198 [00:01&lt;00:00, 6361.88 examples/s]"
          }
        },
        "4a39e960369a40c7911721364b008981": {
          "model_module": "@jupyter-widgets/base",
          "model_name": "LayoutModel",
          "model_module_version": "1.2.0",
          "state": {
            "_model_module": "@jupyter-widgets/base",
            "_model_module_version": "1.2.0",
            "_model_name": "LayoutModel",
            "_view_count": null,
            "_view_module": "@jupyter-widgets/base",
            "_view_module_version": "1.2.0",
            "_view_name": "LayoutView",
            "align_content": null,
            "align_items": null,
            "align_self": null,
            "border": null,
            "bottom": null,
            "display": null,
            "flex": null,
            "flex_flow": null,
            "grid_area": null,
            "grid_auto_columns": null,
            "grid_auto_flow": null,
            "grid_auto_rows": null,
            "grid_column": null,
            "grid_gap": null,
            "grid_row": null,
            "grid_template_areas": null,
            "grid_template_columns": null,
            "grid_template_rows": null,
            "height": null,
            "justify_content": null,
            "justify_items": null,
            "left": null,
            "margin": null,
            "max_height": null,
            "max_width": null,
            "min_height": null,
            "min_width": null,
            "object_fit": null,
            "object_position": null,
            "order": null,
            "overflow": null,
            "overflow_x": null,
            "overflow_y": null,
            "padding": null,
            "right": null,
            "top": null,
            "visibility": null,
            "width": null
          }
        },
        "bab313ca2c3943d3be8116b3ab29caf1": {
          "model_module": "@jupyter-widgets/base",
          "model_name": "LayoutModel",
          "model_module_version": "1.2.0",
          "state": {
            "_model_module": "@jupyter-widgets/base",
            "_model_module_version": "1.2.0",
            "_model_name": "LayoutModel",
            "_view_count": null,
            "_view_module": "@jupyter-widgets/base",
            "_view_module_version": "1.2.0",
            "_view_name": "LayoutView",
            "align_content": null,
            "align_items": null,
            "align_self": null,
            "border": null,
            "bottom": null,
            "display": null,
            "flex": null,
            "flex_flow": null,
            "grid_area": null,
            "grid_auto_columns": null,
            "grid_auto_flow": null,
            "grid_auto_rows": null,
            "grid_column": null,
            "grid_gap": null,
            "grid_row": null,
            "grid_template_areas": null,
            "grid_template_columns": null,
            "grid_template_rows": null,
            "height": null,
            "justify_content": null,
            "justify_items": null,
            "left": null,
            "margin": null,
            "max_height": null,
            "max_width": null,
            "min_height": null,
            "min_width": null,
            "object_fit": null,
            "object_position": null,
            "order": null,
            "overflow": null,
            "overflow_x": null,
            "overflow_y": null,
            "padding": null,
            "right": null,
            "top": null,
            "visibility": null,
            "width": null
          }
        },
        "8c811e43d4dc4ff993cd28381106c6dc": {
          "model_module": "@jupyter-widgets/controls",
          "model_name": "DescriptionStyleModel",
          "model_module_version": "1.5.0",
          "state": {
            "_model_module": "@jupyter-widgets/controls",
            "_model_module_version": "1.5.0",
            "_model_name": "DescriptionStyleModel",
            "_view_count": null,
            "_view_module": "@jupyter-widgets/base",
            "_view_module_version": "1.2.0",
            "_view_name": "StyleView",
            "description_width": ""
          }
        },
        "1a5d3fb8347341beb38d93cecac04c6c": {
          "model_module": "@jupyter-widgets/base",
          "model_name": "LayoutModel",
          "model_module_version": "1.2.0",
          "state": {
            "_model_module": "@jupyter-widgets/base",
            "_model_module_version": "1.2.0",
            "_model_name": "LayoutModel",
            "_view_count": null,
            "_view_module": "@jupyter-widgets/base",
            "_view_module_version": "1.2.0",
            "_view_name": "LayoutView",
            "align_content": null,
            "align_items": null,
            "align_self": null,
            "border": null,
            "bottom": null,
            "display": null,
            "flex": null,
            "flex_flow": null,
            "grid_area": null,
            "grid_auto_columns": null,
            "grid_auto_flow": null,
            "grid_auto_rows": null,
            "grid_column": null,
            "grid_gap": null,
            "grid_row": null,
            "grid_template_areas": null,
            "grid_template_columns": null,
            "grid_template_rows": null,
            "height": null,
            "justify_content": null,
            "justify_items": null,
            "left": null,
            "margin": null,
            "max_height": null,
            "max_width": null,
            "min_height": null,
            "min_width": null,
            "object_fit": null,
            "object_position": null,
            "order": null,
            "overflow": null,
            "overflow_x": null,
            "overflow_y": null,
            "padding": null,
            "right": null,
            "top": null,
            "visibility": null,
            "width": null
          }
        },
        "cd8c1e4639f4420bb404f4ebf973db62": {
          "model_module": "@jupyter-widgets/controls",
          "model_name": "ProgressStyleModel",
          "model_module_version": "1.5.0",
          "state": {
            "_model_module": "@jupyter-widgets/controls",
            "_model_module_version": "1.5.0",
            "_model_name": "ProgressStyleModel",
            "_view_count": null,
            "_view_module": "@jupyter-widgets/base",
            "_view_module_version": "1.2.0",
            "_view_name": "StyleView",
            "bar_color": null,
            "description_width": ""
          }
        },
        "6970e6de74da4cdaa9ea30a465434c4d": {
          "model_module": "@jupyter-widgets/base",
          "model_name": "LayoutModel",
          "model_module_version": "1.2.0",
          "state": {
            "_model_module": "@jupyter-widgets/base",
            "_model_module_version": "1.2.0",
            "_model_name": "LayoutModel",
            "_view_count": null,
            "_view_module": "@jupyter-widgets/base",
            "_view_module_version": "1.2.0",
            "_view_name": "LayoutView",
            "align_content": null,
            "align_items": null,
            "align_self": null,
            "border": null,
            "bottom": null,
            "display": null,
            "flex": null,
            "flex_flow": null,
            "grid_area": null,
            "grid_auto_columns": null,
            "grid_auto_flow": null,
            "grid_auto_rows": null,
            "grid_column": null,
            "grid_gap": null,
            "grid_row": null,
            "grid_template_areas": null,
            "grid_template_columns": null,
            "grid_template_rows": null,
            "height": null,
            "justify_content": null,
            "justify_items": null,
            "left": null,
            "margin": null,
            "max_height": null,
            "max_width": null,
            "min_height": null,
            "min_width": null,
            "object_fit": null,
            "object_position": null,
            "order": null,
            "overflow": null,
            "overflow_x": null,
            "overflow_y": null,
            "padding": null,
            "right": null,
            "top": null,
            "visibility": null,
            "width": null
          }
        },
        "5db89b7395644865887971f5e7415bc2": {
          "model_module": "@jupyter-widgets/controls",
          "model_name": "DescriptionStyleModel",
          "model_module_version": "1.5.0",
          "state": {
            "_model_module": "@jupyter-widgets/controls",
            "_model_module_version": "1.5.0",
            "_model_name": "DescriptionStyleModel",
            "_view_count": null,
            "_view_module": "@jupyter-widgets/base",
            "_view_module_version": "1.2.0",
            "_view_name": "StyleView",
            "description_width": ""
          }
        }
      }
    }
  },
  "cells": [
    {
      "cell_type": "markdown",
      "metadata": {
        "id": "view-in-github",
        "colab_type": "text"
      },
      "source": [
        "<a href=\"https://colab.research.google.com/github/Cutie-tee/Roboreviews_project/blob/main/reviews_project.ipynb\" target=\"_parent\"><img src=\"https://colab.research.google.com/assets/colab-badge.svg\" alt=\"Open In Colab\"/></a>"
      ]
    },
    {
      "cell_type": "markdown",
      "source": [
        "Dataset consists of 3 files: 1429_1.csv\n",
        "Datafiniti_Amazon_Consumer_Reviews_of_Amazon_Products.csv\n",
        "Datafiniti_Amazon_Consumer_Reviews_of_Amazon_Products_May19.csv\n",
        "\n",
        "\n"
      ],
      "metadata": {
        "id": "AiGNuG9FxzRc"
      }
    },
    {
      "cell_type": "code",
      "execution_count": 7,
      "metadata": {
        "id": "kuAr6V4SpWt9",
        "colab": {
          "base_uri": "https://localhost:8080/"
        },
        "outputId": "fbd8f01d-9c0f-4a8a-c177-ba7c9f9c55ab"
      },
      "outputs": [
        {
          "output_type": "stream",
          "name": "stdout",
          "text": [
            "Requirement already satisfied: pandas in /usr/local/lib/python3.10/dist-packages (2.2.3)\n",
            "Requirement already satisfied: numpy>=1.22.4 in /usr/local/lib/python3.10/dist-packages (from pandas) (1.26.4)\n",
            "Requirement already satisfied: python-dateutil>=2.8.2 in /usr/local/lib/python3.10/dist-packages (from pandas) (2.8.2)\n",
            "Requirement already satisfied: pytz>=2020.1 in /usr/local/lib/python3.10/dist-packages (from pandas) (2024.2)\n",
            "Requirement already satisfied: tzdata>=2022.7 in /usr/local/lib/python3.10/dist-packages (from pandas) (2024.2)\n",
            "Requirement already satisfied: six>=1.5 in /usr/local/lib/python3.10/dist-packages (from python-dateutil>=2.8.2->pandas) (1.16.0)\n"
          ]
        }
      ],
      "source": [
        "!pip install --upgrade pandas\n"
      ]
    },
    {
      "cell_type": "code",
      "source": [
        "import pandas as pd\n",
        "\n",
        "def safe_read_csv(file_path):\n",
        "    \"\"\"\n",
        "    Safely reads a CSV file by handling parsing issues.\n",
        "    \"\"\"\n",
        "    try:\n",
        "        # Read the CSV with specific options for handling errors\n",
        "        return pd.read_csv(\n",
        "            file_path,\n",
        "            on_bad_lines='skip',  # Skips problematic lines\n",
        "            quotechar='\"',       # Specifies the quote character\n",
        "            escapechar='\\\\',     # Escapes special characters\n",
        "            engine='python'      # Use Python engine for better handling of malformed rows\n",
        "        )\n",
        "    except Exception as e:\n",
        "        print(f\"Error reading file {file_path}: {e}\")\n",
        "        return None\n",
        "\n",
        "# Load datasets safely\n",
        "file1_data = safe_read_csv('1429_1.csv')\n",
        "file2_data = safe_read_csv('Datafiniti_Amazon_Consumer_Reviews_of_Amazon_Products.csv')\n",
        "file3_data = safe_read_csv('Datafiniti_Amazon_Consumer_Reviews_of_Amazon_Products_May19.csv')\n",
        "\n",
        "# Check if all files loaded successfully\n",
        "if file1_data is not None and file2_data is not None and file3_data is not None:\n",
        "    # Standardizing column names\n",
        "    file1_data.rename(columns=lambda x: x.strip(), inplace=True)\n",
        "    file2_data.rename(columns=lambda x: x.strip(), inplace=True)\n",
        "    file3_data.rename(columns=lambda x: x.strip(), inplace=True)\n",
        "\n",
        "    # Align datasets to common columns\n",
        "    common_columns = list(set(file1_data.columns) & set(file2_data.columns) & set(file3_data.columns))\n",
        "\n",
        "    # Selecting only common columns\n",
        "    file1_data = file1_data[common_columns]\n",
        "    file2_data = file2_data[common_columns]\n",
        "    file3_data = file3_data[common_columns]\n",
        "\n",
        "    # Concatenate datasets\n",
        "    combined_data = pd.concat([file1_data, file2_data, file3_data], ignore_index=True)\n",
        "\n",
        "    # Dropping duplicates\n",
        "    combined_data.drop_duplicates(inplace=True)\n",
        "\n",
        "    # Resetting index\n",
        "    combined_data.reset_index(drop=True, inplace=True)\n",
        "\n",
        "    # Save cleaned dataset\n",
        "    combined_data.to_csv('combined_reviews_cleaned.csv', index=False)\n",
        "\n",
        "    # Display overview\n",
        "    print(\"Dataset successfully cleaned and saved.\")\n",
        "    print(combined_data.info())\n",
        "else:\n",
        "    print(\"One or more files could not be loaded.\")\n"
      ],
      "metadata": {
        "colab": {
          "base_uri": "https://localhost:8080/"
        },
        "id": "egQJ111b07sn",
        "outputId": "225d854a-91ba-4e87-d0e1-d524115af29f"
      },
      "execution_count": 8,
      "outputs": [
        {
          "output_type": "stream",
          "name": "stdout",
          "text": [
            "Dataset successfully cleaned and saved.\n",
            "<class 'pandas.core.frame.DataFrame'>\n",
            "RangeIndex: 51023 entries, 0 to 51022\n",
            "Data columns (total 17 columns):\n",
            " #   Column               Non-Null Count  Dtype  \n",
            "---  ------               --------------  -----  \n",
            " 0   name                 44263 non-null  object \n",
            " 1   reviews.doRecommend  38206 non-null  object \n",
            " 2   reviews.numHelpful   38288 non-null  float64\n",
            " 3   reviews.id           41 non-null     float64\n",
            " 4   reviews.text         51022 non-null  object \n",
            " 5   reviews.title        51004 non-null  object \n",
            " 6   manufacturer         51023 non-null  object \n",
            " 7   brand                51023 non-null  object \n",
            " 8   reviews.date         50984 non-null  object \n",
            " 9   reviews.dateSeen     51023 non-null  object \n",
            " 10  reviews.username     51016 non-null  object \n",
            " 11  asins                51021 non-null  object \n",
            " 12  reviews.sourceURLs   51023 non-null  object \n",
            " 13  keys                 51023 non-null  object \n",
            " 14  id                   51023 non-null  object \n",
            " 15  reviews.rating       50990 non-null  float64\n",
            " 16  categories           51023 non-null  object \n",
            "dtypes: float64(3), object(14)\n",
            "memory usage: 6.6+ MB\n",
            "None\n"
          ]
        }
      ]
    },
    {
      "cell_type": "code",
      "source": [
        "# Load the combined dataset\n",
        "import pandas as pd\n",
        "\n",
        "# Load the cleaned dataset\n",
        "combined_data = pd.read_csv('combined_reviews_cleaned.csv')\n",
        "\n",
        "# Display initial missing values\n",
        "print(\"Missing Values Before Processing:\")\n",
        "print(combined_data.isnull().sum())\n",
        "\n",
        "# 1. Drop rows with missing `reviews.text` (essential for all tasks)\n",
        "combined_data = combined_data.dropna(subset=['reviews.text'])\n",
        "\n",
        "# 2. Drop rows with missing `reviews.rating` (essential for classification and clustering)\n",
        "combined_data = combined_data.dropna(subset=['reviews.rating'])\n",
        "\n",
        "# 3. Optional: Handle missing values in other columns (example: reviews.doRecommend)\n",
        "# Here, replace missing values with a default or mode value\n",
        "combined_data['reviews.doRecommend'] = combined_data['reviews.doRecommend'].fillna('Unknown')\n",
        "\n",
        "# 4. Drop columns with minimal or irrelevant data (e.g., `reviews.id` with only 71 non-null values)\n",
        "columns_to_drop = ['reviews.id']\n",
        "combined_data = combined_data.drop(columns=columns_to_drop, errors='ignore')\n",
        "\n",
        "# Display missing values after processing\n",
        "print(\"\\nMissing Values After Processing:\")\n",
        "print(combined_data.isnull().sum())\n",
        "\n",
        "# Save the preprocessed dataset\n",
        "preprocessed_dataset_path = 'preprocessed_reviews.csv'\n",
        "combined_data.to_csv(preprocessed_dataset_path, index=False)\n",
        "\n",
        "print(f\"Preprocessed dataset saved to {preprocessed_dataset_path}.\")\n",
        "\n"
      ],
      "metadata": {
        "colab": {
          "base_uri": "https://localhost:8080/"
        },
        "id": "rGfEFrsF16CF",
        "outputId": "fab25322-ac43-4b2d-d582-480bc7fb04fa"
      },
      "execution_count": 9,
      "outputs": [
        {
          "output_type": "stream",
          "name": "stdout",
          "text": [
            "Missing Values Before Processing:\n",
            "name                    6760\n",
            "reviews.doRecommend    12817\n",
            "reviews.numHelpful     12735\n",
            "reviews.id             50982\n",
            "reviews.text               1\n",
            "reviews.title             19\n",
            "manufacturer               0\n",
            "brand                      0\n",
            "reviews.date              39\n",
            "reviews.dateSeen           0\n",
            "reviews.username           7\n",
            "asins                      2\n",
            "reviews.sourceURLs         0\n",
            "keys                       0\n",
            "id                         0\n",
            "reviews.rating            33\n",
            "categories                 0\n",
            "dtype: int64\n",
            "\n",
            "Missing Values After Processing:\n",
            "name                    6759\n",
            "reviews.doRecommend        0\n",
            "reviews.numHelpful     12701\n",
            "reviews.text               0\n",
            "reviews.title             19\n",
            "manufacturer               0\n",
            "brand                      0\n",
            "reviews.date              29\n",
            "reviews.dateSeen           0\n",
            "reviews.username           7\n",
            "asins                      2\n",
            "reviews.sourceURLs         0\n",
            "keys                       0\n",
            "id                         0\n",
            "reviews.rating             0\n",
            "categories                 0\n",
            "dtype: int64\n",
            "Preprocessed dataset saved to preprocessed_reviews.csv.\n"
          ]
        }
      ]
    },
    {
      "cell_type": "code",
      "source": [
        "combined_data['reviews.username'] = combined_data['reviews.username'].fillna(\"Anonymous\")\n",
        "combined_data['name'] = combined_data['name'].fillna(\"Unknown\")\n",
        "\n",
        "combined_data['reviews.doRecommend'] = combined_data['reviews.doRecommend'].map({'Yes': True, 'No': False})\n",
        "\n",
        "assert combined_data['reviews.rating'].between(1, 5).all()\n",
        "\n",
        "combined_data.to_csv('final_preprocessed_reviews.csv', index=False)\n",
        "print(\"Final preprocessed dataset saved.\")\n",
        "\n"
      ],
      "metadata": {
        "id": "7AuOZR_kBMz7",
        "outputId": "2e4245f4-2f18-4cb9-c2d4-d2e8f766913f",
        "colab": {
          "base_uri": "https://localhost:8080/"
        }
      },
      "execution_count": 10,
      "outputs": [
        {
          "output_type": "stream",
          "name": "stdout",
          "text": [
            "Final preprocessed dataset saved.\n"
          ]
        }
      ]
    },
    {
      "cell_type": "markdown",
      "source": [],
      "metadata": {
        "id": "r2HTjrCs07iz"
      }
    },
    {
      "cell_type": "markdown",
      "source": [
        "**Sentinent analysis  with RoBerta-base**"
      ],
      "metadata": {
        "id": "CdxvFw793L6V"
      }
    },
    {
      "cell_type": "code",
      "source": [
        "!pip install datasets"
      ],
      "metadata": {
        "colab": {
          "base_uri": "https://localhost:8080/"
        },
        "id": "1C42Ob4Fobbt",
        "outputId": "d6b644ec-8df8-4cfe-d616-27f64b4e4b99"
      },
      "execution_count": 11,
      "outputs": [
        {
          "output_type": "stream",
          "name": "stdout",
          "text": [
            "Requirement already satisfied: datasets in /usr/local/lib/python3.10/dist-packages (3.1.0)\n",
            "Requirement already satisfied: filelock in /usr/local/lib/python3.10/dist-packages (from datasets) (3.16.1)\n",
            "Requirement already satisfied: numpy>=1.17 in /usr/local/lib/python3.10/dist-packages (from datasets) (1.26.4)\n",
            "Requirement already satisfied: pyarrow>=15.0.0 in /usr/local/lib/python3.10/dist-packages (from datasets) (17.0.0)\n",
            "Requirement already satisfied: dill<0.3.9,>=0.3.0 in /usr/local/lib/python3.10/dist-packages (from datasets) (0.3.8)\n",
            "Requirement already satisfied: pandas in /usr/local/lib/python3.10/dist-packages (from datasets) (2.2.3)\n",
            "Requirement already satisfied: requests>=2.32.2 in /usr/local/lib/python3.10/dist-packages (from datasets) (2.32.3)\n",
            "Requirement already satisfied: tqdm>=4.66.3 in /usr/local/lib/python3.10/dist-packages (from datasets) (4.66.6)\n",
            "Requirement already satisfied: xxhash in /usr/local/lib/python3.10/dist-packages (from datasets) (3.5.0)\n",
            "Requirement already satisfied: multiprocess<0.70.17 in /usr/local/lib/python3.10/dist-packages (from datasets) (0.70.16)\n",
            "Requirement already satisfied: fsspec<=2024.9.0,>=2023.1.0 in /usr/local/lib/python3.10/dist-packages (from fsspec[http]<=2024.9.0,>=2023.1.0->datasets) (2024.9.0)\n",
            "Requirement already satisfied: aiohttp in /usr/local/lib/python3.10/dist-packages (from datasets) (3.11.2)\n",
            "Requirement already satisfied: huggingface-hub>=0.23.0 in /usr/local/lib/python3.10/dist-packages (from datasets) (0.26.2)\n",
            "Requirement already satisfied: packaging in /usr/local/lib/python3.10/dist-packages (from datasets) (24.2)\n",
            "Requirement already satisfied: pyyaml>=5.1 in /usr/local/lib/python3.10/dist-packages (from datasets) (6.0.2)\n",
            "Requirement already satisfied: aiohappyeyeballs>=2.3.0 in /usr/local/lib/python3.10/dist-packages (from aiohttp->datasets) (2.4.3)\n",
            "Requirement already satisfied: aiosignal>=1.1.2 in /usr/local/lib/python3.10/dist-packages (from aiohttp->datasets) (1.3.1)\n",
            "Requirement already satisfied: attrs>=17.3.0 in /usr/local/lib/python3.10/dist-packages (from aiohttp->datasets) (24.2.0)\n",
            "Requirement already satisfied: frozenlist>=1.1.1 in /usr/local/lib/python3.10/dist-packages (from aiohttp->datasets) (1.5.0)\n",
            "Requirement already satisfied: multidict<7.0,>=4.5 in /usr/local/lib/python3.10/dist-packages (from aiohttp->datasets) (6.1.0)\n",
            "Requirement already satisfied: propcache>=0.2.0 in /usr/local/lib/python3.10/dist-packages (from aiohttp->datasets) (0.2.0)\n",
            "Requirement already satisfied: yarl<2.0,>=1.17.0 in /usr/local/lib/python3.10/dist-packages (from aiohttp->datasets) (1.17.2)\n",
            "Requirement already satisfied: async-timeout<6.0,>=4.0 in /usr/local/lib/python3.10/dist-packages (from aiohttp->datasets) (4.0.3)\n",
            "Requirement already satisfied: typing-extensions>=3.7.4.3 in /usr/local/lib/python3.10/dist-packages (from huggingface-hub>=0.23.0->datasets) (4.12.2)\n",
            "Requirement already satisfied: charset-normalizer<4,>=2 in /usr/local/lib/python3.10/dist-packages (from requests>=2.32.2->datasets) (3.4.0)\n",
            "Requirement already satisfied: idna<4,>=2.5 in /usr/local/lib/python3.10/dist-packages (from requests>=2.32.2->datasets) (3.10)\n",
            "Requirement already satisfied: urllib3<3,>=1.21.1 in /usr/local/lib/python3.10/dist-packages (from requests>=2.32.2->datasets) (2.2.3)\n",
            "Requirement already satisfied: certifi>=2017.4.17 in /usr/local/lib/python3.10/dist-packages (from requests>=2.32.2->datasets) (2024.8.30)\n",
            "Requirement already satisfied: python-dateutil>=2.8.2 in /usr/local/lib/python3.10/dist-packages (from pandas->datasets) (2.8.2)\n",
            "Requirement already satisfied: pytz>=2020.1 in /usr/local/lib/python3.10/dist-packages (from pandas->datasets) (2024.2)\n",
            "Requirement already satisfied: tzdata>=2022.7 in /usr/local/lib/python3.10/dist-packages (from pandas->datasets) (2024.2)\n",
            "Requirement already satisfied: six>=1.5 in /usr/local/lib/python3.10/dist-packages (from python-dateutil>=2.8.2->pandas->datasets) (1.16.0)\n"
          ]
        }
      ]
    },
    {
      "cell_type": "code",
      "source": [
        "import pandas as pd\n",
        "from sklearn.model_selection import train_test_split\n",
        "from transformers import AutoTokenizer, AutoModelForSequenceClassification, Trainer, TrainingArguments\n",
        "from datasets import Dataset\n",
        "\n",
        "# Load the final_preprocessed dataset\n",
        "data = pd.read_csv('final_preprocessed_reviews.csv', low_memory=False)\n",
        "\n",
        "# Map ratings to sentiment using the given labels\n",
        "def map_rating_to_sentiment(rating):\n",
        "    if rating > 3:\n",
        "        return 2  # Positive\n",
        "    elif rating == 3:\n",
        "        return 1  # Neutral\n",
        "    else:\n",
        "        return 0  # Negative\n",
        "\n",
        "data['sentiment'] = data['reviews.rating'].apply(map_rating_to_sentiment)\n",
        "\n",
        "# Split data into training and testing sets\n",
        "train_texts, test_texts, train_labels, test_labels = train_test_split(\n",
        "    data['reviews.text'], data['sentiment'], test_size=0.2, random_state=42\n",
        ")\n",
        "\n",
        "# Convert to Hugging Face Dataset format\n",
        "train_df = pd.DataFrame({\"text\": train_texts, \"label\": train_labels})\n",
        "test_df = pd.DataFrame({\"text\": test_texts, \"label\": test_labels})\n",
        "\n",
        "train_dataset = Dataset.from_pandas(train_df)\n",
        "test_dataset = Dataset.from_pandas(test_df)\n",
        "\n",
        "# Tokenizer and model setup\n",
        "model_name = \"roberta-base\"\n",
        "tokenizer = AutoTokenizer.from_pretrained(model_name)\n",
        "model = AutoModelForSequenceClassification.from_pretrained(model_name, num_labels=3)  # 3 classes\n",
        "\n",
        "# Tokenize datasets\n",
        "def preprocess_function(examples):\n",
        "    return tokenizer(examples[\"text\"], padding=True, truncation=True)\n",
        "\n",
        "train_dataset = train_dataset.map(preprocess_function, batched=True)\n",
        "test_dataset = test_dataset.map(preprocess_function, batched=True)\n",
        "\n",
        "# Training arguments\n",
        "training_args = TrainingArguments(\n",
        "    output_dir=\"./results\",\n",
        "    eval_strategy=\"epoch\",  # or \"steps\" for more frequent evaluation\n",
        "    save_strategy=\"epoch\",\n",
        "    learning_rate=2e-5,\n",
        "    per_device_train_batch_size=8,\n",
        "    num_train_epochs=3,\n",
        "    weight_decay=0.01,\n",
        "    logging_dir='./logs',\n",
        "    logging_steps=10,\n",
        "    save_total_limit=2,\n",
        "    report_to=\"none\"  # Disable W&B and other integrations\n",
        ")\n",
        "\n",
        "import os\n",
        "os.environ[\"WANDB_DISABLED\"] = \"true\"  # Disable Weights & Biases (W&B)\n",
        "\n",
        "# Define Trainer\n",
        "trainer = Trainer(\n",
        "    model=model,\n",
        "    args=training_args,\n",
        "    train_dataset=train_dataset,\n",
        "    eval_dataset=test_dataset,\n",
        "    tokenizer=tokenizer\n",
        ")\n",
        "\n",
        "# Train the model\n",
        "trainer.train()\n",
        "\n",
        "# Optionally, evaluate the model\n",
        "# eval_results = trainer.evaluate()\n",
        "\n",
        "# Save the fine-tuned model\n",
        "model.save_pretrained(\"./fine_tuned_roberta_sentiment\")\n",
        "tokenizer.save_pretrained(\"./fine_tuned_roberta_sentiment\")\n",
        "\n",
        "print(\"Model fine-tuned and saved successfully!\")\n"
      ],
      "metadata": {
        "colab": {
          "base_uri": "https://localhost:8080/",
          "height": 320,
          "referenced_widgets": [
            "a4bf32dafc3b4b4bb474c6e4e0d7a6ec",
            "f059b8b2e4ab42609c8559cc10823f65",
            "429a1379ab7e48a38f17297dce3a50a7",
            "814a2f14cae74860956b4dabb77a4ea2",
            "958237da6e7948c39bc5b8196707039a",
            "1b6b93b9f28e4b6dbd59d1dd665e0511",
            "12621c48ec5c4be4ba1172a7b28401c5",
            "3ccac01311de484f9ac87a9117b4ef78",
            "8e7711cc34a641b9aecd38f4c9f094ce",
            "8e230c20a14740f1b181d33fec632930",
            "8ff04860740e48748ad5f5555fbde19d",
            "9c519cd59fb747c5abd73ef79d1650fd",
            "f87aeb62e1a44e22a5247c3d8b9300c4",
            "daae43018a4c41a19e6f39f421e14781",
            "afe4635d38324f4bba4277b82a0f835a",
            "4a39e960369a40c7911721364b008981",
            "bab313ca2c3943d3be8116b3ab29caf1",
            "8c811e43d4dc4ff993cd28381106c6dc",
            "1a5d3fb8347341beb38d93cecac04c6c",
            "cd8c1e4639f4420bb404f4ebf973db62",
            "6970e6de74da4cdaa9ea30a465434c4d",
            "5db89b7395644865887971f5e7415bc2"
          ]
        },
        "id": "jV-4-YvqRwYH",
        "outputId": "b8ac3b2a-8905-4ff4-e71c-85880d31c24a"
      },
      "execution_count": 12,
      "outputs": [
        {
          "metadata": {
            "tags": null
          },
          "name": "stderr",
          "output_type": "stream",
          "text": [
            "Some weights of RobertaForSequenceClassification were not initialized from the model checkpoint at roberta-base and are newly initialized: ['classifier.dense.bias', 'classifier.dense.weight', 'classifier.out_proj.bias', 'classifier.out_proj.weight']\n",
            "You should probably TRAIN this model on a down-stream task to be able to use it for predictions and inference.\n"
          ]
        },
        {
          "data": {
            "application/vnd.jupyter.widget-view+json": {
              "model_id": "a4bf32dafc3b4b4bb474c6e4e0d7a6ec",
              "version_major": 2,
              "version_minor": 0
            },
            "text/plain": [
              "Map:   0%|          | 0/40791 [00:00<?, ? examples/s]"
            ]
          },
          "metadata": {},
          "output_type": "display_data"
        },
        {
          "data": {
            "application/vnd.jupyter.widget-view+json": {
              "model_id": "9c519cd59fb747c5abd73ef79d1650fd",
              "version_major": 2,
              "version_minor": 0
            },
            "text/plain": [
              "Map:   0%|          | 0/10198 [00:00<?, ? examples/s]"
            ]
          },
          "metadata": {},
          "output_type": "display_data"
        },
        {
          "metadata": {
            "tags": null
          },
          "name": "stderr",
          "output_type": "stream",
          "text": [
            "<ipython-input-12-27599315473c>:63: FutureWarning: `tokenizer` is deprecated and will be removed in version 5.0.0 for `Trainer.__init__`. Use `processing_class` instead.\n",
            "  trainer = Trainer(\n"
          ]
        },
        {
          "data": {
            "text/html": [
              "\n",
              "    <div>\n",
              "      \n",
              "      <progress value='15297' max='15297' style='width:300px; height:20px; vertical-align: middle;'></progress>\n",
              "      [15297/15297 3:23:22, Epoch 3/3]\n",
              "    </div>\n",
              "    <table border=\"1\" class=\"dataframe\">\n",
              "  <thead>\n",
              " <tr style=\"text-align: left;\">\n",
              "      <th>Epoch</th>\n",
              "      <th>Training Loss</th>\n",
              "      <th>Validation Loss</th>\n",
              "    </tr>\n",
              "  </thead>\n",
              "  <tbody>\n",
              "    <tr>\n",
              "      <td>1</td>\n",
              "      <td>0.096800</td>\n",
              "      <td>0.208934</td>\n",
              "    </tr>\n",
              "    <tr>\n",
              "      <td>2</td>\n",
              "      <td>0.144600</td>\n",
              "      <td>0.201895</td>\n",
              "    </tr>\n",
              "    <tr>\n",
              "      <td>3</td>\n",
              "      <td>0.097600</td>\n",
              "      <td>0.251213</td>\n",
              "    </tr>\n",
              "  </tbody>\n",
              "</table><p>"
            ],
            "text/plain": [
              "<IPython.core.display.HTML object>"
            ]
          },
          "metadata": {},
          "output_type": "display_data"
        },
        {
          "metadata": {
            "tags": null
          },
          "name": "stdout",
          "output_type": "stream",
          "text": [
            "Model fine-tuned and saved successfully!\n"
          ]
        }
      ]
    },
    {
      "cell_type": "code",
      "source": [
        "# Evaluate the model\n",
        "trainer.evaluate()\n"
      ],
      "metadata": {
        "id": "uKBMO5BfazBU",
        "outputId": "629d148a-4f4b-4015-fe4e-8eb987b32fdc",
        "colab": {
          "base_uri": "https://localhost:8080/",
          "height": 124
        }
      },
      "execution_count": 13,
      "outputs": [
        {
          "data": {
            "text/html": [
              "\n",
              "    <div>\n",
              "      \n",
              "      <progress value='1275' max='1275' style='width:300px; height:20px; vertical-align: middle;'></progress>\n",
              "      [1275/1275 04:05]\n",
              "    </div>\n",
              "    "
            ],
            "text/plain": [
              "<IPython.core.display.HTML object>"
            ]
          },
          "metadata": {},
          "output_type": "display_data"
        },
        {
          "data": {
            "text/plain": [
              "{'eval_loss': 0.2512132227420807,\n",
              " 'eval_runtime': 245.8632,\n",
              " 'eval_samples_per_second': 41.478,\n",
              " 'eval_steps_per_second': 5.186,\n",
              " 'epoch': 3.0}"
            ]
          },
          "execution_count": 13,
          "metadata": {},
          "output_type": "execute_result"
        }
      ]
    },
    {
      "cell_type": "code",
      "source": [
        "metrics = trainer.evaluate()\n",
        "metrics\n"
      ],
      "metadata": {
        "id": "9Tt5Gro-9FsW"
      },
      "execution_count": null,
      "outputs": []
    },
    {
      "cell_type": "code",
      "source": [
        "#Predict sentiment for new reviews using the fine-tuned model:\n",
        "\n",
        "from transformers import pipeline\n",
        "\n",
        "# Load the fine-tuned model\n",
        "sentiment_classifier = pipeline(\n",
        "    \"text-classification\",\n",
        "    model=\"./fine_tuned_roberta_sentiment\",\n",
        "    tokenizer=\"./fine_tuned_roberta_sentiment\"\n",
        ")\n",
        "\n",
        "# Predict sentiment for a new review\n",
        "new_review = \"This product is amazing! It exceeded all my expectations.\"\n",
        "prediction = sentiment_classifier(new_review)\n",
        "print(prediction)\n"
      ],
      "metadata": {
        "id": "FPe8PwPPa8rX",
        "outputId": "32b7c462-2d41-4582-9b07-9b21b209772c",
        "colab": {
          "base_uri": "https://localhost:8080/"
        }
      },
      "execution_count": 15,
      "outputs": [
        {
          "metadata": {
            "tags": null
          },
          "name": "stderr",
          "output_type": "stream",
          "text": [
            "Hardware accelerator e.g. GPU is available in the environment, but no `device` argument is passed to the `Pipeline` object. Model will be on CPU.\n"
          ]
        },
        {
          "metadata": {
            "tags": null
          },
          "name": "stdout",
          "output_type": "stream",
          "text": [
            "[{'label': 'LABEL_2', 'score': 0.9995864033699036}]\n"
          ]
        }
      ]
    },
    {
      "cell_type": "code",
      "source": [
        "# Predict sentiments for the entire dataset\n",
        "predictions = data['reviews.text'].apply(lambda x: sentiment_classifier(x)[0]['label'])\n",
        "data['predicted_sentiment'] = predictions\n",
        "data.to_csv('reviews_with_sentiments.csv', index=False)\n"
      ],
      "metadata": {
        "id": "K_f_wgjMbD7K"
      },
      "execution_count": null,
      "outputs": []
    },
    {
      "cell_type": "code",
      "source": [
        "import matplotlib.pyplot as plt\n",
        "\n",
        "sentiment_counts = data['predicted_sentiment'].value_counts()\n",
        "sentiment_counts.plot(kind='bar', title='Sentiment Distribution')\n",
        "plt.xlabel('Sentiment')\n",
        "plt.ylabel('Count')\n",
        "plt.show()\n"
      ],
      "metadata": {
        "id": "6g6-aFyWbHLm"
      },
      "execution_count": null,
      "outputs": []
    },
    {
      "cell_type": "markdown",
      "source": [
        "**Clustering based on emrging trends to ascertain partner growth opportuntities** . Lifestyle Enhancers:\n",
        "\n",
        "Products designed to improve daily routines or convenience.\n",
        "Includes items like Nespresso pods, smart assistants, pet carriers, and other gadgets that simplify life.\n",
        "Creative and Productivity Tools:\n",
        "\n",
        "Products for work, study, or creative activities.\n",
        "Includes laptops, tablets, keyboards, laptop stands, webcams, and styluses.\n",
        "Health and Wellness:\n",
        "\n",
        "Devices that focus on personal health, fitness, or beauty.\n",
        "Includes fitness trackers, electric massagers, hairdryers, and grooming devices.\n",
        "Entertainment and Immersion:\n",
        "\n",
        "Products that provide entertainment or enhanced experiences.\n",
        "Includes gaming consoles, headphones, speakers, VR headsets, and streaming devices.\n",
        "Power and Connectivity Solutions:\n",
        "\n",
        "Products that enable devices to stay powered or connected.\n",
        "Includes chargers, batteries, power banks, docking stations, and USB hubs.\n",
        "Eco-Friendly and Sustainable Solutions:\n",
        "\n",
        "Products marketed as sustainable or environmentally friendly."
      ],
      "metadata": {
        "id": "g3ZLVzU5UW_P"
      }
    },
    {
      "cell_type": "code",
      "source": [],
      "metadata": {
        "id": "2uxorfovaxDA"
      },
      "execution_count": null,
      "outputs": []
    },
    {
      "cell_type": "code",
      "source": [],
      "metadata": {
        "id": "1zcSoyvrUyoe"
      },
      "execution_count": null,
      "outputs": []
    },
    {
      "cell_type": "markdown",
      "source": [
        "Testing the model"
      ],
      "metadata": {
        "id": "6CoBIShcViWp"
      }
    }
  ]
}